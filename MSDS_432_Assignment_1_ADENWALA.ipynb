{
 "cells": [
  {
   "cell_type": "markdown",
   "metadata": {},
   "source": [
    "1.\tTo begin, let's generate some random data to work with. Ensure that a common random number seed is used to generate each of the arrays. We will make five arrays, each of length 512, 1024, 2048, 4096, and 8192 containing randomly generated uniformly distributed integers from 1 to 10000.  You may use the numpy package for this.  \n",
    "\n",
    "2.\tSort each of the random number arrays from smallest to largest.  You may use any algorithm to sort the data.\n",
    "\n",
    "3.\tExecute the base search algorithm (binary search) (from the text and github code) for each of array, noting the execution time for each array.  With each execution use the maximum value of the random number array as the number for which you are searching.\n",
    "\n",
    "4.\tNow we will compare this to a linear search.  Use python (perhaps with the Pandas package) to prepare a five-column table containing the following columns with all times in milliseconds:\n",
    "\n",
    "    o\tlength of the random number array\n",
    "    \n",
    "    o\tsort time\n",
    "    \n",
    "    o\tlinear search time for the sorted array\n",
    "    \n",
    "    o\tbinary search time for the sorted array\n",
    "    \n",
    "    o\tbinary search plus sort times\n",
    "    \n",
    "5.\tUse python matplotlib or Seaborn to generate a plot with the size of the random number array on the horizontal axis and with execution time in milliseconds on the vertical axis. The plot should show execution time against array size for linear and binary search algorithms alone.  Discuss the results.\n",
    "6.\tUse Python matplotlib or Seaborn to generate a measure of the size of the data set on the horizontal axis and with execution time in milliseconds on the vertical axis. The plot should show execution time against array size for each form of the algorithm being tested (last four columns of the table).  Discuss the results."
   ]
  },
  {
   "cell_type": "code",
   "execution_count": 93,
   "metadata": {},
   "outputs": [],
   "source": [
    "import numpy as np\n",
    "import pandas as pd\n",
    "import matplotlib.pyplot as plt\n",
    "import seaborn as sns\n",
    "import time\n",
    "from IPython.core.interactiveshell import InteractiveShell\n",
    "InteractiveShell.ast_node_interactivity = \"all\""
   ]
  },
  {
   "cell_type": "markdown",
   "metadata": {},
   "source": [
    "# 1.\tTo begin, let's generate some random data to work with. Ensure that a common random number seed is used to generate each of the arrays. We will make five arrays, each of length 512, 1024, 2048, 4096, and 8192 containing randomly generated uniformly distributed integers from 1 to 10000.  You may use the numpy package for this.  "
   ]
  },
  {
   "cell_type": "code",
   "execution_count": 94,
   "metadata": {},
   "outputs": [],
   "source": [
    "# create random uniform integer distribition of five array of lenght; 512,1024, 2048 ,4096 and 8192\n",
    "\n",
    "#use random seed generator \n",
    "np.random.seed(123)\n",
    "\n",
    "# five array of lenght; 512,1024, 2048 ,4096 and 8192 respectively\n",
    "array_512= np.random.randint(1,10000, 512)\n",
    "array_1024 = np.random.randint(1,10000, 1024)\n",
    "array_2048 = np.random.randint(1,10000, 2048)\n",
    "array_4096 = np.random.randint(1,10000, 4096)\n",
    "array_8192 = np.random.randint(1,10000, 8192)"
   ]
  },
  {
   "cell_type": "markdown",
   "metadata": {},
   "source": [
    "# 2.\tSort each of the random number arrays from smallest to largest.  You may use any algorithm to sort the data."
   ]
  },
  {
   "cell_type": "code",
   "execution_count": 95,
   "metadata": {},
   "outputs": [],
   "source": [
    "# sorting the five array of lenght; 512,1024, 2048 ,4096 and 8192 from smallest ot largest using numpy qucksort algorithm\n",
    "\n",
    "sort_array_512 = np.sort(array_512, kind='quicksort')\n",
    "sort_array_1024 = np.sort(array_1024, kind='quicksort')\n",
    "sort_array_2048 = np.sort(array_2048, kind='quicksort')\n",
    "sort_array_4096 = np.sort(array_4096, kind='quicksort')\n",
    "sort_array_8192 = np.sort(array_8192, kind='quicksort')"
   ]
  },
  {
   "cell_type": "markdown",
   "metadata": {},
   "source": [
    "# 3.\tExecute the base search algorithm (binary search) (from the text and github code) for each of array, noting the execution time for each array.  With each execution use the maximum value of the random number array as the number for which you are searching.\n"
   ]
  },
  {
   "cell_type": "code",
   "execution_count": 96,
   "metadata": {},
   "outputs": [],
   "source": [
    "\n",
    "# define fucntion for binary search algorithm \n",
    "\n",
    "def binary_search(list, item):\n",
    "    # low and high keep track of which part of the list you'll search in.\n",
    "    low = 0\n",
    "    high = len(list) - 1\n",
    "\n",
    "    # While you haven't narrowed it down to one element ...\n",
    "    while low <= high:\n",
    "      # ... check the middle element\n",
    "      mid = (low + high) // 2\n",
    "      guess = list[mid]\n",
    "      # Found the item. return index number\n",
    "      if guess == item:\n",
    "        return mid\n",
    "      # The guess was too high.\n",
    "      if guess > item:\n",
    "        high = mid - 1\n",
    "      # The guess was too low.\n",
    "      else:\n",
    "        low = mid + 1\n",
    "\n",
    "    # Item doesn't exist\n",
    "    return None\n",
    "\n",
    "  "
   ]
  },
  {
   "cell_type": "code",
   "execution_count": 97,
   "metadata": {},
   "outputs": [],
   "source": [
    "# define fucntion for simple search algorithm \n",
    "\n",
    "def simple_search(list, item):\n",
    "    \n",
    "    # for loop to iterate through the list and\n",
    "    \n",
    "    for i in range(len(list)):\n",
    "        #  check if item matches \n",
    "        if list[i] == item:\n",
    "            # return item index number in the list\n",
    "            return i\n",
    "    # item not in list        \n",
    "    return None\n",
    "    "
   ]
  },
  {
   "cell_type": "markdown",
   "metadata": {},
   "source": [
    "# 4.\tNow we will compare this to a linear search.  Use python (perhaps with the Pandas package) to prepare a five-column table containing the following columns with all times in milliseconds:\n",
    "\n",
    "    o\tlength of the random number array\n",
    "    \n",
    "    o\tsort time\n",
    "    \n",
    "    o\tlinear search time for the sorted array\n",
    "    \n",
    "    o\tbinary search time for the sorted array\n",
    "    \n",
    "    o\tbinary search plus sort times\n",
    "\n"
   ]
  },
  {
   "cell_type": "code",
   "execution_count": 98,
   "metadata": {},
   "outputs": [],
   "source": [
    "# get maximum value of each fo the five array of  lenght 512, 1024,2048,4096 and 8192.\n",
    "max_512 = max(sort_array_512)\n",
    "max_1024 = max(sort_array_1024)\n",
    "max_2048 = max(sort_array_2048)\n",
    "max_4096 = max(sort_array_4096)\n",
    "max_8192 = max(sort_array_8192)"
   ]
  },
  {
   "cell_type": "markdown",
   "metadata": {},
   "source": [
    "# get the time to sort arrays "
   ]
  },
  {
   "cell_type": "code",
   "execution_count": 99,
   "metadata": {},
   "outputs": [
    {
     "data": {
      "text/plain": [
       "array([  17,   40,   61,   97,  112,  114,  127,  181,  192,  192,  195,\n",
       "        263,  269,  322,  330,  390,  417,  425,  439,  442,  455,  456,\n",
       "        539,  545,  546,  582,  589,  605,  613,  640,  673,  688,  704,\n",
       "        714,  732,  758,  763,  764,  822,  838,  882,  923,  925,  937,\n",
       "        943,  951,  980, 1093, 1101, 1105, 1112, 1119, 1129, 1133, 1154,\n",
       "       1160, 1223, 1231, 1236, 1259, 1283, 1306, 1327, 1330, 1344, 1347,\n",
       "       1347, 1364, 1383, 1390, 1402, 1440, 1443, 1453, 1508, 1511, 1515,\n",
       "       1525, 1544, 1558, 1559, 1595, 1603, 1640, 1650, 1663, 1670, 1676,\n",
       "       1685, 1732, 1756, 1760, 1772, 1790, 1796, 1848, 1892, 1903, 1995,\n",
       "       1997, 2024, 2047, 2081, 2160, 2175, 2192, 2202, 2242, 2256, 2290,\n",
       "       2339, 2342, 2398, 2426, 2429, 2447, 2484, 2491, 2496, 2513, 2522,\n",
       "       2529, 2534, 2542, 2544, 2558, 2564, 2579, 2588, 2600, 2622, 2623,\n",
       "       2625, 2626, 2655, 2710, 2742, 2748, 2752, 2779, 2820, 2839, 2844,\n",
       "       2857, 2864, 2872, 2879, 2881, 2885, 2895, 2918, 2946, 2948, 3000,\n",
       "       3027, 3055, 3079, 3083, 3085, 3093, 3102, 3122, 3133, 3253, 3259,\n",
       "       3262, 3274, 3288, 3296, 3307, 3317, 3326, 3332, 3357, 3359, 3366,\n",
       "       3368, 3388, 3394, 3482, 3506, 3513, 3562, 3574, 3575, 3583, 3623,\n",
       "       3666, 3701, 3709, 3797, 3840, 3861, 3867, 3876, 3882, 3893, 3900,\n",
       "       3915, 3938, 3941, 3944, 3957, 3964, 3972, 3998, 4005, 4008, 4029,\n",
       "       4051, 4105, 4143, 4144, 4167, 4170, 4170, 4174, 4185, 4196, 4196,\n",
       "       4202, 4232, 4310, 4310, 4311, 4322, 4344, 4345, 4356, 4361, 4422,\n",
       "       4452, 4455, 4456, 4487, 4497, 4502, 4508, 4539, 4551, 4592, 4603,\n",
       "       4611, 4627, 4637, 4649, 4672, 4693, 4704, 4719, 4732, 4757, 4862,\n",
       "       4863, 4868, 4905, 4940, 4952, 4977, 4977, 4983, 4986, 5001, 5010,\n",
       "       5016, 5017, 5037, 5047, 5089, 5183, 5190, 5207, 5219, 5256, 5258,\n",
       "       5307, 5308, 5319, 5326, 5339, 5343, 5354, 5374, 5398, 5411, 5422,\n",
       "       5462, 5475, 5485, 5495, 5531, 5534, 5544, 5551, 5572, 5595, 5617,\n",
       "       5651, 5661, 5665, 5723, 5732, 5747, 5748, 5846, 5858, 5880, 5881,\n",
       "       5922, 5958, 5972, 6028, 6053, 6078, 6085, 6086, 6087, 6088, 6114,\n",
       "       6116, 6140, 6174, 6183, 6203, 6258, 6263, 6285, 6310, 6319, 6360,\n",
       "       6365, 6369, 6383, 6393, 6478, 6482, 6484, 6485, 6547, 6567, 6579,\n",
       "       6583, 6584, 6622, 6629, 6641, 6649, 6689, 6702, 6704, 6734, 6741,\n",
       "       6774, 6783, 6793, 6803, 6858, 6885, 6896, 6944, 6949, 6963, 7045,\n",
       "       7088, 7096, 7100, 7148, 7188, 7208, 7225, 7230, 7232, 7234, 7240,\n",
       "       7245, 7250, 7281, 7295, 7311, 7342, 7345, 7383, 7385, 7392, 7425,\n",
       "       7428, 7455, 7528, 7555, 7569, 7570, 7588, 7637, 7662, 7700, 7704,\n",
       "       7723, 7751, 7764, 7791, 7794, 7800, 7865, 7871, 7888, 7895, 7909,\n",
       "       7914, 7951, 7959, 7986, 7993, 8007, 8029, 8037, 8103, 8114, 8122,\n",
       "       8143, 8173, 8207, 8210, 8225, 8227, 8282, 8286, 8326, 8373, 8424,\n",
       "       8448, 8464, 8474, 8474, 8480, 8486, 8488, 8516, 8523, 8535, 8554,\n",
       "       8564, 8583, 8600, 8606, 8627, 8636, 8653, 8657, 8674, 8701, 8748,\n",
       "       8750, 8802, 8879, 8888, 8912, 8937, 8981, 8987, 9012, 9019, 9029,\n",
       "       9038, 9048, 9055, 9060, 9067, 9085, 9108, 9117, 9124, 9191, 9200,\n",
       "       9231, 9254, 9298, 9326, 9339, 9343, 9414, 9439, 9441, 9450, 9451,\n",
       "       9505, 9529, 9571, 9574, 9599, 9611, 9618, 9620, 9631, 9636, 9667,\n",
       "       9706, 9706, 9714, 9730, 9744, 9786, 9840, 9849, 9897, 9927, 9953,\n",
       "       9957, 9957, 9982, 9982, 9985, 9987])"
      ]
     },
     "execution_count": 99,
     "metadata": {},
     "output_type": "execute_result"
    },
    {
     "data": {
      "text/plain": [
       "array([  18,   23,   28, ..., 9969, 9979, 9995])"
      ]
     },
     "execution_count": 99,
     "metadata": {},
     "output_type": "execute_result"
    },
    {
     "data": {
      "text/plain": [
       "array([   2,    6,   14, ..., 9996, 9997, 9999])"
      ]
     },
     "execution_count": 99,
     "metadata": {},
     "output_type": "execute_result"
    },
    {
     "data": {
      "text/plain": [
       "array([   1,    2,    5, ..., 9990, 9994, 9997])"
      ]
     },
     "execution_count": 99,
     "metadata": {},
     "output_type": "execute_result"
    },
    {
     "data": {
      "text/plain": [
       "array([   1,    3,    4, ..., 9996, 9997, 9999])"
      ]
     },
     "execution_count": 99,
     "metadata": {},
     "output_type": "execute_result"
    }
   ],
   "source": [
    "\n",
    "# time to sort array of len 512\n",
    "start_time = time.perf_counter()\n",
    "\n",
    "np.sort(array_512, kind='quicksort')\n",
    "\n",
    "time_sort_512= time.perf_counter()- start_time\n",
    "\n",
    "# time to sort array of len 1024\n",
    "start_time = time.perf_counter()\n",
    "\n",
    "np.sort(array_1024, kind='quicksort')\n",
    "\n",
    "time_sort_1024= time.perf_counter()- start_time\n",
    "\n",
    "# time to sort array of len 2048\n",
    "\n",
    "start_time = time.perf_counter()\n",
    "\n",
    "np.sort(array_2048, kind='quicksort')\n",
    "\n",
    "time_sort_2048= time.perf_counter()- start_time\n",
    "\n",
    "# time to sort array of len 4096\n",
    "start_time = time.perf_counter()\n",
    "\n",
    "np.sort(array_4096, kind='quicksort')\n",
    "\n",
    "time_sort_4096= time.perf_counter()- start_time\n",
    "\n",
    "# time to sort array of len 8192\n",
    "start_time = time.perf_counter()\n",
    "\n",
    "np.sort(array_8192, kind='quicksort')\n",
    "\n",
    "time_sort_8192= time.perf_counter()- start_time\n",
    "\n",
    "\n"
   ]
  },
  {
   "cell_type": "markdown",
   "metadata": {},
   "source": [
    "# get the linear search time for the sorted array"
   ]
  },
  {
   "cell_type": "code",
   "execution_count": 100,
   "metadata": {},
   "outputs": [
    {
     "data": {
      "text/plain": [
       "511"
      ]
     },
     "execution_count": 100,
     "metadata": {},
     "output_type": "execute_result"
    },
    {
     "data": {
      "text/plain": [
       "1023"
      ]
     },
     "execution_count": 100,
     "metadata": {},
     "output_type": "execute_result"
    },
    {
     "data": {
      "text/plain": [
       "2047"
      ]
     },
     "execution_count": 100,
     "metadata": {},
     "output_type": "execute_result"
    },
    {
     "data": {
      "text/plain": [
       "4095"
      ]
     },
     "execution_count": 100,
     "metadata": {},
     "output_type": "execute_result"
    },
    {
     "data": {
      "text/plain": [
       "8191"
      ]
     },
     "execution_count": 100,
     "metadata": {},
     "output_type": "execute_result"
    }
   ],
   "source": [
    "# time for simple search sorted array of len 512\n",
    "start_time = time.perf_counter()\n",
    "\n",
    "simple_search(sort_array_512 , max_512)\n",
    "\n",
    "time_linear_512= time.perf_counter()- start_time\n",
    "\n",
    "# time for simple search sorted array of len 1024\n",
    "start_time = time.perf_counter()\n",
    "\n",
    "simple_search(sort_array_1024,max_1024 )\n",
    "\n",
    "time_linear_1024= time.perf_counter()- start_time\n",
    "\n",
    "# time for simple search sorted array of len 2048\n",
    "\n",
    "start_time = time.perf_counter()\n",
    "\n",
    "simple_search(sort_array_2048,max_2048 )\n",
    "\n",
    "time_linear_2048= time.perf_counter()- start_time\n",
    "\n",
    "# time for simple search sorted array of len 4096\n",
    "start_time = time.perf_counter()\n",
    "\n",
    "simple_search(sort_array_4096 , max_4096 )\n",
    "\n",
    "time_linear_4096= time.perf_counter()- start_time\n",
    "\n",
    "# time for simple search sorted array of len 8192\n",
    "start_time = time.perf_counter()\n",
    "\n",
    "simple_search(sort_array_8192, max_8192)\n",
    "\n",
    "time_linear_8192= time.perf_counter()- start_time"
   ]
  },
  {
   "cell_type": "markdown",
   "metadata": {},
   "source": [
    "# get the binary search time for the sorted array"
   ]
  },
  {
   "cell_type": "code",
   "execution_count": 101,
   "metadata": {},
   "outputs": [
    {
     "data": {
      "text/plain": [
       "511"
      ]
     },
     "execution_count": 101,
     "metadata": {},
     "output_type": "execute_result"
    },
    {
     "data": {
      "text/plain": [
       "1023"
      ]
     },
     "execution_count": 101,
     "metadata": {},
     "output_type": "execute_result"
    },
    {
     "data": {
      "text/plain": [
       "2047"
      ]
     },
     "execution_count": 101,
     "metadata": {},
     "output_type": "execute_result"
    },
    {
     "data": {
      "text/plain": [
       "4095"
      ]
     },
     "execution_count": 101,
     "metadata": {},
     "output_type": "execute_result"
    },
    {
     "data": {
      "text/plain": [
       "8191"
      ]
     },
     "execution_count": 101,
     "metadata": {},
     "output_type": "execute_result"
    }
   ],
   "source": [
    "# time for binary search sorted array of len 512\n",
    "start_time = time.perf_counter()\n",
    "\n",
    "binary_search(sort_array_512 , max_512)\n",
    "\n",
    "time_binary_512= time.perf_counter()- start_time\n",
    "\n",
    "# time for binary search sorted array of len 1024\n",
    "start_time = time.perf_counter()\n",
    "\n",
    "binary_search(sort_array_1024,max_1024)\n",
    "\n",
    "time_binary_1024= time.perf_counter()- start_time\n",
    "\n",
    "# time for binary search sorted array of len 2048\n",
    "\n",
    "start_time = time.perf_counter()\n",
    "\n",
    "binary_search(sort_array_2048,max_2048)\n",
    "\n",
    "time_binary_2048= time.perf_counter()- start_time\n",
    "\n",
    "# time for binary search sorted array of len 4096\n",
    "start_time = time.perf_counter()\n",
    "\n",
    "binary_search(sort_array_4096 , max_4096)\n",
    "\n",
    "time_binary_4096= time.perf_counter()- start_time\n",
    "\n",
    "# time for binary search sorted array of len 8192\n",
    "start_time = time.perf_counter()\n",
    "\n",
    "binary_search(sort_array_8192, max_8192)\n",
    "\n",
    "time_binary_8192= time.perf_counter()- start_time"
   ]
  },
  {
   "cell_type": "markdown",
   "metadata": {},
   "source": [
    "# binary search plus sort times"
   ]
  },
  {
   "cell_type": "code",
   "execution_count": 102,
   "metadata": {},
   "outputs": [],
   "source": [
    "# add sort and binary search time for the array of len 512\n",
    "\n",
    "\n",
    "time_sort_binary_512= time_binary_512+time_sort_512\n",
    "\n",
    "# add sort and binary search time for the array of len 1024\n",
    "\n",
    "time_sort_binary_1024= time_binary_1024 +time_sort_1024\n",
    "\n",
    "# add sort and binary search time for the array of len 2048\n",
    "\n",
    "\n",
    "time_sort_binary_2048= time_binary_2048 +time_sort_2048\n",
    "\n",
    "# add sort and binary search time for the array of len 4096\n",
    "\n",
    "\n",
    "time_sort_binary_4096= time_binary_4096 +time_sort_4096\n",
    "\n",
    "# add sort and binary search time for the array of len 8192\n",
    "\n",
    "time_sort_binary_8192= time_binary_8192 +time_sort_8192\n"
   ]
  },
  {
   "cell_type": "markdown",
   "metadata": {},
   "source": [
    "# Create Data Frame"
   ]
  },
  {
   "cell_type": "code",
   "execution_count": 110,
   "metadata": {},
   "outputs": [
    {
     "data": {
      "text/html": [
       "<div>\n",
       "<style scoped>\n",
       "    .dataframe tbody tr th:only-of-type {\n",
       "        vertical-align: middle;\n",
       "    }\n",
       "\n",
       "    .dataframe tbody tr th {\n",
       "        vertical-align: top;\n",
       "    }\n",
       "\n",
       "    .dataframe thead th {\n",
       "        text-align: right;\n",
       "    }\n",
       "</style>\n",
       "<table border=\"1\" class=\"dataframe\">\n",
       "  <thead>\n",
       "    <tr style=\"text-align: right;\">\n",
       "      <th></th>\n",
       "      <th>Array_length</th>\n",
       "      <th>Sort_time</th>\n",
       "      <th>Linear_search_time</th>\n",
       "      <th>Binary_search_time</th>\n",
       "      <th>Sort_n_Binary_search_time</th>\n",
       "    </tr>\n",
       "  </thead>\n",
       "  <tbody>\n",
       "    <tr>\n",
       "      <th>0</th>\n",
       "      <td>512</td>\n",
       "      <td>0.002386</td>\n",
       "      <td>0.001441</td>\n",
       "      <td>0.001467</td>\n",
       "      <td>0.003853</td>\n",
       "    </tr>\n",
       "    <tr>\n",
       "      <th>1</th>\n",
       "      <td>1024</td>\n",
       "      <td>0.001635</td>\n",
       "      <td>0.001421</td>\n",
       "      <td>0.001190</td>\n",
       "      <td>0.002826</td>\n",
       "    </tr>\n",
       "    <tr>\n",
       "      <th>2</th>\n",
       "      <td>2048</td>\n",
       "      <td>0.001525</td>\n",
       "      <td>0.001591</td>\n",
       "      <td>0.001117</td>\n",
       "      <td>0.002642</td>\n",
       "    </tr>\n",
       "    <tr>\n",
       "      <th>3</th>\n",
       "      <td>4096</td>\n",
       "      <td>0.001712</td>\n",
       "      <td>0.002023</td>\n",
       "      <td>0.001273</td>\n",
       "      <td>0.002985</td>\n",
       "    </tr>\n",
       "    <tr>\n",
       "      <th>4</th>\n",
       "      <td>8192</td>\n",
       "      <td>0.002050</td>\n",
       "      <td>0.002720</td>\n",
       "      <td>0.001271</td>\n",
       "      <td>0.003322</td>\n",
       "    </tr>\n",
       "  </tbody>\n",
       "</table>\n",
       "</div>"
      ],
      "text/plain": [
       "   Array_length  Sort_time  Linear_search_time  Binary_search_time  \\\n",
       "0           512   0.002386            0.001441            0.001467   \n",
       "1          1024   0.001635            0.001421            0.001190   \n",
       "2          2048   0.001525            0.001591            0.001117   \n",
       "3          4096   0.001712            0.002023            0.001273   \n",
       "4          8192   0.002050            0.002720            0.001271   \n",
       "\n",
       "   Sort_n_Binary_search_time  \n",
       "0                   0.003853  \n",
       "1                   0.002826  \n",
       "2                   0.002642  \n",
       "3                   0.002985  \n",
       "4                   0.003322  "
      ]
     },
     "execution_count": 110,
     "metadata": {},
     "output_type": "execute_result"
    }
   ],
   "source": [
    "# create data frame that shows array lenght and runtume in milliseconds for sort time, linear search , \n",
    "# binary search and sort + binary search\n",
    "\n",
    "table_summary = pd.DataFrame([[len(array_512),time_sort_512,time_linear_512,time_binary_512,time_sort_binary_512],\n",
    " [len(array_1024),time_sort_1024,time_linear_1024,time_binary_1024,time_sort_binary_1024],\n",
    "  [len(array_2048),time_sort_2048,time_linear_2048,time_binary_2048,time_sort_binary_2048],\n",
    " [len(array_4096),time_sort_4096,time_linear_4096,time_binary_4096,time_sort_binary_4096],\n",
    " [len(array_8192),time_sort_8192,time_linear_8192,time_binary_8192,time_sort_binary_8192]\n",
    "],\n",
    "columns= [\"Array_length\",\"Sort_time\",\"Linear_search_time\",\"Binary_search_time\", \"Sort_n_Binary_search_time\"])\n",
    "\n",
    "table_summary"
   ]
  },
  {
   "cell_type": "markdown",
   "metadata": {},
   "source": [
    "# 5.\tUse python matplotlib or Seaborn to generate a plot with the size of the random number array on the horizontal axis and with execution time in milliseconds on the vertical axis. The plot should show execution time against array size for linear and binary search algorithms alone.  Discuss the results."
   ]
  },
  {
   "cell_type": "code",
   "execution_count": 111,
   "metadata": {},
   "outputs": [
    {
     "data": {
      "text/plain": [
       "[<matplotlib.lines.Line2D at 0x2471e094130>,\n",
       " <matplotlib.lines.Line2D at 0x2471e0941f0>]"
      ]
     },
     "execution_count": 111,
     "metadata": {},
     "output_type": "execute_result"
    },
    {
     "data": {
      "text/plain": [
       "<matplotlib.legend.Legend at 0x2471e061d00>"
      ]
     },
     "execution_count": 111,
     "metadata": {},
     "output_type": "execute_result"
    },
    {
     "data": {
      "text/plain": [
       "Text(0.5, 0, 'Array length')"
      ]
     },
     "execution_count": 111,
     "metadata": {},
     "output_type": "execute_result"
    },
    {
     "data": {
      "text/plain": [
       "Text(0, 0.5, 'Execution Time in Milliseconds')"
      ]
     },
     "execution_count": 111,
     "metadata": {},
     "output_type": "execute_result"
    },
    {
     "data": {
      "text/plain": [
       "Text(0.5, 1.0, 'Search Execution Time')"
      ]
     },
     "execution_count": 111,
     "metadata": {},
     "output_type": "execute_result"
    },
    {
     "data": {
      "image/png": "[encoded data removed]",
      "text/plain": [
       "<Figure size 432x288 with 1 Axes>"
      ]
     },
     "metadata": {
      "needs_background": "light"
     },
     "output_type": "display_data"
    }
   ],
   "source": [
    "# plot line graph to compare runntime/execution time between linear search and binary search\n",
    "\n",
    "plt.plot( table_summary['Array_length'], table_summary['Linear_search_time'], 'r',\n",
    "        table_summary['Array_length'], table_summary['Binary_search_time'], 'b',)\n",
    "\n",
    "plt.legend(['Linear search', 'Binary search'], loc=2)\n",
    "plt.xlabel('Array length')\n",
    "plt.ylabel('Execution Time in Milliseconds')\n",
    "plt.title( 'Search Execution Time')"
   ]
  },
  {
   "cell_type": "markdown",
   "metadata": {},
   "source": [
    "# Discussion"
   ]
  },
  {
   "cell_type": "markdown",
   "metadata": {},
   "source": [
    "The visual comparison between run time of linear search and simple search confirms that linear search's big O runtime is O(n) and binary search big O runtime is O(log n). \n",
    "\n",
    "When a sorted array size is small, linear search and binary search have similar run times but when the size of the sorted array increases, linear search time increases linearly, and time taken by binary search increases at an ever-reducing rate. \n",
    "As the sorted array length increases, binary search is lot faster than linear search.\n"
   ]
  },
  {
   "cell_type": "markdown",
   "metadata": {},
   "source": [
    "# 6.\tUse Python matplotlib or Seaborn to generate a measure of the size of the data set on the horizontal axis and with execution time in milliseconds on the vertical axis. The plot should show execution time against array size for each form of the algorithm being tested (last four columns of the table).  Discuss the results."
   ]
  },
  {
   "cell_type": "code",
   "execution_count": 112,
   "metadata": {
    "scrolled": true
   },
   "outputs": [
    {
     "data": {
      "text/plain": [
       "[<matplotlib.lines.Line2D at 0x2471e1060a0>,\n",
       " <matplotlib.lines.Line2D at 0x2471e106190>,\n",
       " <matplotlib.lines.Line2D at 0x2471e106220>,\n",
       " <matplotlib.lines.Line2D at 0x2471e1062e0>]"
      ]
     },
     "execution_count": 112,
     "metadata": {},
     "output_type": "execute_result"
    },
    {
     "data": {
      "text/plain": [
       "<matplotlib.legend.Legend at 0x2471e0d8340>"
      ]
     },
     "execution_count": 112,
     "metadata": {},
     "output_type": "execute_result"
    },
    {
     "data": {
      "text/plain": [
       "Text(0.5, 0, 'Array length')"
      ]
     },
     "execution_count": 112,
     "metadata": {},
     "output_type": "execute_result"
    },
    {
     "data": {
      "text/plain": [
       "Text(0, 0.5, 'Execution Time in Milliseconds')"
      ]
     },
     "execution_count": 112,
     "metadata": {},
     "output_type": "execute_result"
    },
    {
     "data": {
      "text/plain": [
       "Text(0.5, 1.0, 'Search Execution Time')"
      ]
     },
     "execution_count": 112,
     "metadata": {},
     "output_type": "execute_result"
    },
    {
     "data": {
      "image/png": "[encoded data removed]",
      "text/plain": [
       "<Figure size 432x288 with 1 Axes>"
      ]
     },
     "metadata": {
      "needs_background": "light"
     },
     "output_type": "display_data"
    }
   ],
   "source": [
    "# plot line graph to compare runntime/execution time of sorting, linear search, binary search and sorting + binary search\n",
    "\n",
    "plt.plot(  table_summary['Array_length'], table_summary['Sort_time'],'g--',\n",
    "    table_summary['Array_length'], table_summary['Linear_search_time'], 'r',\n",
    "        table_summary['Array_length'], table_summary['Binary_search_time'], 'b',\n",
    "table_summary['Array_length'], table_summary['Sort_n_Binary_search_time'], 'm--',)\n",
    "\n",
    "plt.legend(['Quicksort_NumPy','Linear search', 'Binary search','Quicksort + Binary search'], loc=2)\n",
    "plt.xlabel('Array length')\n",
    "plt.ylabel('Execution Time in Milliseconds')\n",
    "plt.title( 'Search Execution Time')"
   ]
  },
  {
   "cell_type": "markdown",
   "metadata": {},
   "source": [
    "# Discussion and Executive Summary "
   ]
  },
  {
   "cell_type": "markdown",
   "metadata": {},
   "source": [
    "This graph shows that linear and binary search algorithms exhibit different runtime behavior as the array size increases.It shows that linear search's big O runtime is O(n) and binary search's big O runtime is O(log n). The caveat here is that Binary search requires a sorted list, whereas linear or simple search does not require a sorted list. \n",
    "\n",
    "If the array size is relatively small, the linear search runtime is similar to binary search’s runtime, but when the array size increases, binary search is a lot faster than linear search. That said, the input array must be sorted.\n",
    "\n",
    "This shows that binary search is a more efficient algorithm compared to linear or simple search when the input is sorted.\n",
    "\n",
    "If we don’t have a sorted array, then linear search is more efficient because the runtime of linear search is the same regardless of the input being sorted or not being sorted. Its runtime will be O(n).  For Binary search to work the array must be sorted first and this adds complexity. The runtime will be O(log n) + O (n*log n),  if we use quick sort. \n",
    "For an unsorted array, a linear search is faster than binary search.\n",
    "\n",
    "As a Data engineer, it is important to know and use the most efficient algorithm for a given problem. In this case, if the array is sorted, then a Binary search algorithm should be used and if the array is not sorted then the simple search algorithm should be used. This know-how is important for application scalability purposes.   \n",
    "\n",
    "Also, NumPy quicksort algorithm performs pretty well; however, the quick sort Big O runtime is O(n*log n). This runtime is not reflected in the graph and this is probably because NumPy functions have really good performance as majority of NumPy is written in C and it is executed very quickly. We would need to work with very large input sizes to get a fair comparison of the NumPy sorting algorithm.\n",
    "\n",
    "\n"
   ]
  }
 ],
 "metadata": {
  "kernelspec": {
   "display_name": "Python 3",
   "language": "python",
   "name": "python3"
  },
  "language_info": {
   "codemirror_mode": {
    "name": "ipython",
    "version": 3
   },
   "file_extension": ".py",
   "mimetype": "text/x-python",
   "name": "python",
   "nbconvert_exporter": "python",
   "pygments_lexer": "ipython3",
   "version": "3.8.5"
  },
  "widgets": {
   "application/vnd.jupyter.widget-state+json": {
    "state": {},
    "version_major": 2,
    "version_minor": 0
   }
  }
 },
 "nbformat": 4,
 "nbformat_minor": 4
}
