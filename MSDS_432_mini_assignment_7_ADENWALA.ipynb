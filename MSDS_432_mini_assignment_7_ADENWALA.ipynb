{
 "cells": [
  {
   "cell_type": "markdown",
   "metadata": {},
   "source": [
    "1.\tFirst, use the breadth-first algorithm to find the quickest way to get to L.A from NYC and calculate the time that it will take to get to L.A. from NYC using the breadth first algorithm.  (Even though BFS does not use weighted edges, we will indirectly use them to calculate the time of the route).\n",
    "\n",
    "2.\tPrint the route e.g. NYC -> DC -> ATL etc -> L.A.\n",
    "\n",
    "3.\tNext, use Dijkstra's algorithm to find the most optimal route to get to L.A from NYC, capture the time that it will take to get to L.A (use the weights in the algorithm assigned to the routes).\n",
    "\n",
    "4.\tPrint the route e.g. NYC -> DC -> ATL etc -> L.A.\n",
    "\n",
    "5.\tCompare time of Breadth-first algorithm with Dijkstra's algorithm in terms of trip time, stops, computation complexity.  Discuss the reason for differences in methods.\n",
    "\n",
    "6.\tUse Python (matplotlib or Seaborn) or JavaScript (D3) visualization tools to illustrate algorithm performance.\n"
   ]
  },
  {
   "cell_type": "code",
   "execution_count": 1,
   "metadata": {},
   "outputs": [
    {
     "name": "stdout",
     "output_type": "stream",
     "text": [
      "python version 3.8.5\n"
     ]
    }
   ],
   "source": [
    "import pandas as pd\n",
    "import numpy as np\n",
    "import time\n",
    "import matplotlib.pyplot as plt\n",
    "import matplotlib.style as style\n",
    "from decimal import Decimal\n",
    "import random\n",
    "import string\n",
    "import matplotlib.ticker as mtick\n",
    "from collections import deque\n",
    "import math\n",
    "\n",
    "from platform import python_version\n",
    "\n",
    "print(\"python version\",python_version())\n",
    "\n",
    "import os\n",
    "import platform\n"
   ]
  },
  {
   "cell_type": "markdown",
   "metadata": {},
   "source": [
    "# Set up the graph in pythons dictionary  "
   ]
  },
  {
   "cell_type": "code",
   "execution_count": 2,
   "metadata": {},
   "outputs": [],
   "source": [
    "# the graph\n",
    "graph = {}\n",
    "\n",
    "#store neighbor and cost \n",
    "graph['NYC'] = {} #add node\n",
    "graph['NYC']['DC'] = 2 #add neighbor and weight\n",
    "graph['NYC']['Indianapolis'] = 11 #add neighbor and weight\n",
    "graph['NYC']['Pittsburg'] = 7 #add neighbor and weight\n",
    "\n",
    "#add rest of nodes and cost \n",
    "graph['DC'] = {}\n",
    "graph['DC']['Atlanta'] = 2\n",
    "\n",
    "graph['Atlanta'] = {}\n",
    "graph['Atlanta']['New Orleans'] = 2\n",
    "\n",
    "graph['New Orleans'] = {}\n",
    "graph['New Orleans']['Dallas'] = 2\n",
    "\n",
    "graph['Dallas'] = {}\n",
    "graph['Dallas']['Albuquerque'] = 2\n",
    "\n",
    "graph['Albuquerque'] = {}\n",
    "graph['Albuquerque']['Phoenix'] = 2\n",
    "\n",
    "graph['Phoenix'] = {}\n",
    "graph['Phoenix']['Las Vegas'] = 2\n",
    "graph['Phoenix']['San Diego'] = 5\n",
    "\n",
    "graph['Las Vegas'] = {}\n",
    "graph['Las Vegas']['San Diego'] = 2\n",
    "graph['Las Vegas']['Los Angeles'] = 5\n",
    "\n",
    "\n",
    "graph['Indianapolis'] = {}\n",
    "graph['Indianapolis']['Kansas City'] = 8\n",
    "\n",
    "graph['Kansas City'] = {}\n",
    "graph['Kansas City']['Denver'] = 7\n",
    "\n",
    "graph['Denver'] = {}\n",
    "graph['Denver']['Salt Lake City'] = 6\n",
    "\n",
    "graph['Salt Lake City'] = {}\n",
    "graph['Salt Lake City']['Las Vegas'] = 9\n",
    "\n",
    "graph['Pittsburg'] = {}\n",
    "graph['Pittsburg']['Cincinnati'] = 6\n",
    "\n",
    "\n",
    "graph['Cincinnati'] = {}\n",
    "graph['Cincinnati']['St Louis'] = 8\n",
    "\n",
    "graph['St Louis'] = {}\n",
    "graph['St Louis']['Oklahoma City'] = 7\n",
    "\n",
    "graph['Oklahoma City'] = {}\n",
    "graph['Oklahoma City']['Albuquerque'] = 9\n",
    "\n",
    "\n",
    "\n",
    "graph['San Diego'] = {}\n",
    "graph['San Diego']['Los Angeles'] = 2\n",
    "\n",
    "graph['Los Angeles'] = {}\n",
    "\n",
    "# the costs table\n",
    "infinity = float(\"inf\")\n",
    "costs = {}\n",
    "costs[\"DC\"] = 2\n",
    "costs[\"Indianapolis\"] = 11\n",
    "costs[\"Pittsburg\"] = 7\n",
    "\n",
    "costs[\"Atlanta\"] = infinity\n",
    "costs[\"Kansas City\"] = infinity\n",
    "costs[\"Cincinnati\"] = infinity\n",
    "costs[\"New Orleans\"] = infinity\n",
    "costs[\"Denver\"] = infinity\n",
    "costs[\"St Louis\"] = infinity\n",
    "costs[\"Dallas\"] = infinity\n",
    "costs[\"Oklahoma City\"] = infinity\n",
    "\n",
    "costs[\"Salt Lake City\"] = infinity\n",
    "costs[\"Albuquerque\"] = infinity\n",
    "\n",
    "costs[\"Phoenix\"] = infinity\n",
    "costs[\"Las Vegas\"] = infinity\n",
    "costs[\"San Diego\"] = infinity\n",
    "costs[\"Los Angeles\"] = infinity\n",
    "\n",
    "\n",
    "# the parents table\n",
    "parents = {}\n",
    "parents[\"DC\"] = \"NYC\"\n",
    "parents[\"Indianapolis\"] = \"NYC\"\n",
    "parents[\"Pittsburg\"] = \"NYC\"\n",
    "\n",
    "parents[\"Atlanta\"] = None\n",
    "parents[\"Kansas City\"] = None\n",
    "parents[\"Cincinnati\"] = None\n",
    "parents[\"New Orleans\"] = None\n",
    "parents[\"Denver\"] = None\n",
    "parents[\"Oklahoma City\"] = None\n",
    "parents[\"St Louis\"] = None\n",
    "parents[\"Dallas\"] = None\n",
    "parents[\"Albuquerque\"] = None\n",
    "parents[\"Salt Lake City\"] = None\n",
    "parents[\"Phoenix\"] = None\n",
    "parents[\"Las Vegas\"] = None\n",
    "parents[\"San Diego\"] = None\n",
    "parents[\"Los Angeles\"] = None"
   ]
  },
  {
   "cell_type": "markdown",
   "metadata": {},
   "source": [
    "# 1.\tFirst, use the breadth-first algorithm to find the quickest way to get to L.A from NYC and calculate the time that it will take to get to L.A. from NYC using the breadth first algorithm.  (Even though BFS does not use weighted edges, we will indirectly use them to calculate the time of the route)."
   ]
  },
  {
   "cell_type": "markdown",
   "metadata": {},
   "source": [
    "BFS function \n",
    "\n",
    "refrence:\n",
    "https://pythoninwonderland.wordpress.com/2017/03/18/how-to-implement-breadth-first-search-in-python/"
   ]
  },
  {
   "cell_type": "code",
   "execution_count": 3,
   "metadata": {},
   "outputs": [],
   "source": [
    "def bfs_shortest_path(graph, start, goal):\n",
    "    # keep track of explored nodes\n",
    "    explored = []\n",
    "    # keep track of all the paths to be checked\n",
    "    queue = [[start]]\n",
    "    #print ('queue', queue)\n",
    " \n",
    "    # return path if start is goal\n",
    "    if start == goal:\n",
    "        return \"Start = goal\"\n",
    " \n",
    "    # keeps looping until all possible paths have been checked\n",
    "    while queue:\n",
    "        # pop the first path from the queue\n",
    "        path = queue.pop(0)\n",
    "        #print ('path',path)\n",
    "        # get the last node from the path\n",
    "        node = path[-1]\n",
    "        #print (\"node\", node)\n",
    "        if node not in explored:\n",
    "            neighbours = graph[node]\n",
    "            # go through all neighbour nodes, construct a new path and\n",
    "            # push it into the queue\n",
    "            for neighbour in neighbours:\n",
    "                new_path = list(path)\n",
    "                new_path.append(neighbour)\n",
    "                queue.append(new_path)\n",
    "                # return path if neighbour is goal\n",
    "                if neighbour == goal:\n",
    "                    return new_path\n",
    " \n",
    "            # mark node as explored\n",
    "            explored.append(node)\n",
    " \n",
    "    # in case there's no path between the 2 nodes\n",
    "    return \"No Path\"\n",
    " \n"
   ]
  },
  {
   "cell_type": "markdown",
   "metadata": {},
   "source": [
    "# 2.\tPrint the route e.g. NYC -> DC -> ATL etc -> L.A."
   ]
  },
  {
   "cell_type": "code",
   "execution_count": 4,
   "metadata": {},
   "outputs": [],
   "source": [
    "#capture time for BFS shortes route\n",
    "start_time = time.perf_counter()\n",
    "\n",
    "bfs_shortest_path(graph,'NYC', 'Los Angeles' )\n",
    "bfs_run_time = time.perf_counter()- start_time\n",
    "\n",
    "# create list of shortest route \n",
    "bfs_list = bfs_shortest_path(graph,'NYC', 'Los Angeles' )"
   ]
  },
  {
   "cell_type": "code",
   "execution_count": 5,
   "metadata": {},
   "outputs": [
    {
     "name": "stdout",
     "output_type": "stream",
     "text": [
      "\n",
      " BFS shortes parth: NYC --> Indianapolis --> Kansas City --> Denver --> Salt Lake City --> Las Vegas --> Los Angeles\n",
      "\n",
      " number of nodes : 7\n",
      "\n",
      "\n",
      "Time in hours 46\n"
     ]
    }
   ],
   "source": [
    "print('\\n',\"BFS shortes parth:\",' --> '.join(bfs_list))\n",
    "\n",
    "print('\\n' , 'number of nodes :' ,len(bfs_list))\n",
    "\n",
    "# use for loop to calcuate cost\n",
    "bfs_cost = 0\n",
    "for i in range(len(bfs_list)):\n",
    "    if i == len(bfs_list)-1:\n",
    "        None\n",
    "        #bfs_cost += graph[bfs_list[i]]\n",
    "    else:\n",
    "        bfs_cost += graph[bfs_list[i]][bfs_list[i+1]]\n",
    "           \n",
    "\n",
    "print(\"\\n\")\n",
    "print (\"Time in hours\", bfs_cost) "
   ]
  },
  {
   "cell_type": "markdown",
   "metadata": {},
   "source": [
    "# 3.\tNext, use Dijkstra's algorithm to find the most optimal route to get to L.A from NYC, capture the time that it will take to get to L.A (use the weights in the algorithm assigned to the routes)."
   ]
  },
  {
   "cell_type": "markdown",
   "metadata": {},
   "source": [
    "# Dijkstra's Algorithm"
   ]
  },
  {
   "cell_type": "markdown",
   "metadata": {},
   "source": [
    "sample code given in module 7"
   ]
  },
  {
   "cell_type": "code",
   "execution_count": 6,
   "metadata": {},
   "outputs": [],
   "source": [
    "processed = []\n",
    "\n",
    "def find_lowest_cost_node(costs):\n",
    "    lowest_cost = float(\"inf\")\n",
    "    lowest_cost_node = None\n",
    "    # Go through each node.\n",
    "    for node in costs:\n",
    "        cost = costs[node]\n",
    "        # If it's the lowest cost so far and hasn't been processed yet...\n",
    "        if cost < lowest_cost and node not in processed:\n",
    "            # ... set it as the new lowest-cost node.\n",
    "            lowest_cost = cost\n",
    "            lowest_cost_node = node\n",
    "    return lowest_cost_node"
   ]
  },
  {
   "cell_type": "code",
   "execution_count": 7,
   "metadata": {},
   "outputs": [
    {
     "name": "stdout",
     "output_type": "stream",
     "text": [
      "NYC --> DC --> Atlanta --> New Orleans --> Dallas --> Albuquerque --> Phoenix --> Las Vegas --> San Diego --> Los Angeles\n"
     ]
    }
   ],
   "source": [
    "# capture runtime of Dijkstra's algorithm \n",
    "start_time = time.perf_counter()\n",
    " \n",
    "# Find the lowest-cost node that you haven't processed yet.\n",
    "node = find_lowest_cost_node(costs)\n",
    "# If you've processed all the nodes, this while loop is done.\n",
    "while node is not None:\n",
    "    cost = costs[node]\n",
    "    # Go through all the neighbors of this node.\n",
    "    neighbors = graph[node]\n",
    "    for n in neighbors.keys():\n",
    "        new_cost = cost + neighbors[n]\n",
    "        # If it's cheaper to get to this neighbor by going through this node...\n",
    "        if costs[n] > new_cost:\n",
    "            # ... update the cost for this node.\n",
    "            costs[n] = new_cost\n",
    "            # This node becomes the new parent for this neighbor.\n",
    "            parents[n] = node\n",
    "    # Mark the node as processed.\n",
    "    processed.append(node)\n",
    "    # Find the next node to process, and loop.\n",
    "    node = find_lowest_cost_node(costs)\n",
    "\n",
    "#print(\"Cost from the start to each node:\")\n",
    "#print(costs)\n",
    "\n",
    "## Build a trade path backwards\n",
    "current_node, start_node = 'Los Angeles', 'NYC'\n",
    "#current_node, start_node = 'fin', 'start'\n",
    "\n",
    "trade_path = [current_node]\n",
    "\n",
    "while current_node != start_node:\n",
    "    last_loc = parents[current_node]\n",
    "    current_node = last_loc\n",
    "    trade_path.append(last_loc)\n",
    "\n",
    "trade_path = trade_path[::-1]\n",
    "\n",
    "\n",
    "Dj_run_time = time.perf_counter()- start_time\n",
    "print(' --> '.join(trade_path))"
   ]
  },
  {
   "cell_type": "markdown",
   "metadata": {},
   "source": [
    "# 4.\tPrint the route e.g. NYC -> DC -> ATL etc -> L.A."
   ]
  },
  {
   "cell_type": "code",
   "execution_count": 8,
   "metadata": {},
   "outputs": [
    {
     "name": "stdout",
     "output_type": "stream",
     "text": [
      "\n",
      "\n",
      "Dijkstra's fastes route  NYC --> DC --> Atlanta --> New Orleans --> Dallas --> Albuquerque --> Phoenix --> Las Vegas --> San Diego --> Los Angeles\n",
      "\n",
      "\n",
      "Number of nodes: 10\n",
      "\n",
      "\n",
      "Time in hours 18\n"
     ]
    }
   ],
   "source": [
    "\n",
    "print(\"\\n\")\n",
    "print(\"Dijkstra's fastes route \",' --> '.join(trade_path))\n",
    "print(\"\\n\")\n",
    "print (\"Number of nodes:\", len(trade_path))\n",
    "\n",
    "# use for loop to calcuate cost\n",
    "Dj_cost = 0\n",
    "for i in range(len(trade_path)):\n",
    "    if i == len(trade_path)-1:\n",
    "        None\n",
    "        \n",
    "    else:\n",
    "        Dj_cost += graph[trade_path[i]][trade_path[i+1]]\n",
    "           \n",
    "\n",
    "print(\"\\n\")\n",
    "print (\"Time in hours\", Dj_cost) "
   ]
  },
  {
   "cell_type": "markdown",
   "metadata": {},
   "source": [
    "# 5.\tCompare time of Breadth-first algorithm with Dijkstra's algorithm in terms of trip time, stops, computation complexity.  Discuss the reason for differences in methods.\n",
    "\n"
   ]
  },
  {
   "cell_type": "markdown",
   "metadata": {},
   "source": [
    "# 6.\tUse Python (matplotlib or Seaborn) or JavaScript (D3) visualization tools to illustrate algorithm performance."
   ]
  },
  {
   "cell_type": "code",
   "execution_count": 9,
   "metadata": {},
   "outputs": [
    {
     "data": {
      "text/html": [
       "<div>\n",
       "<style scoped>\n",
       "    .dataframe tbody tr th:only-of-type {\n",
       "        vertical-align: middle;\n",
       "    }\n",
       "\n",
       "    .dataframe tbody tr th {\n",
       "        vertical-align: top;\n",
       "    }\n",
       "\n",
       "    .dataframe thead th {\n",
       "        text-align: right;\n",
       "    }\n",
       "</style>\n",
       "<table border=\"1\" class=\"dataframe\">\n",
       "  <thead>\n",
       "    <tr style=\"text-align: right;\">\n",
       "      <th></th>\n",
       "      <th>Name</th>\n",
       "      <th>Number_of_nodes</th>\n",
       "      <th>Hours</th>\n",
       "      <th>Run Time</th>\n",
       "    </tr>\n",
       "  </thead>\n",
       "  <tbody>\n",
       "    <tr>\n",
       "      <th>0</th>\n",
       "      <td>BFS</td>\n",
       "      <td>7</td>\n",
       "      <td>46</td>\n",
       "      <td>0.000073</td>\n",
       "    </tr>\n",
       "    <tr>\n",
       "      <th>1</th>\n",
       "      <td>Dijkstra</td>\n",
       "      <td>10</td>\n",
       "      <td>18</td>\n",
       "      <td>0.000271</td>\n",
       "    </tr>\n",
       "  </tbody>\n",
       "</table>\n",
       "</div>"
      ],
      "text/plain": [
       "       Name  Number_of_nodes  Hours  Run Time\n",
       "0       BFS                7     46  0.000073\n",
       "1  Dijkstra               10     18  0.000271"
      ]
     },
     "execution_count": 9,
     "metadata": {},
     "output_type": "execute_result"
    }
   ],
   "source": [
    "\n",
    "#create data frame view  perfromance difference between BFS and Dijkstra's algoritm \n",
    "\n",
    "table = pd.DataFrame({\"Name\": [\"BFS\",\"Dijkstra\"],\"Number_of_nodes\": [len(bfs_list),len(trade_path)],\n",
    "                      \"Hours\":[bfs_cost, Dj_cost],\n",
    "                     \"Run Time\":[bfs_run_time, Dj_run_time]})\n",
    "table"
   ]
  },
  {
   "cell_type": "code",
   "execution_count": 10,
   "metadata": {},
   "outputs": [
    {
     "data": {
      "image/png": "[encoded data removed]",
      "text/plain": [
       "<Figure size 1080x720 with 1 Axes>"
      ]
     },
     "metadata": {
      "needs_background": "light"
     },
     "output_type": "display_data"
    }
   ],
   "source": [
    "\n",
    "# plotting a bar plot to compare the runtime  BFS and Dijkstra's algoritm\n",
    "ax = plt.rcParams[\"figure.figsize\"] = (15,10)\n",
    "\n",
    "ax = table.plot.bar(x= \"Name\", y = \"Run Time\",fontsize = 15)\n",
    "ax.grid(alpha = 0.3)\n",
    "ax.set_xlabel(\"Name\", fontdict={'fontsize':15})\n",
    "ax.set_ylabel(\"Execution Time in Milliseconds\", fontdict={'fontsize':15})\n",
    "ax.set_title(\"Dijkstra's Algorithm vs Breadth-First-Search\",fontweight=\"bold\", size=15)\n",
    "ax.set_xticklabels(table[\"Name\"] ,rotation=360)\n",
    "ax.legend(loc=2, fontsize=15)\n",
    "\n",
    "plt.show(ax)"
   ]
  },
  {
   "cell_type": "code",
   "execution_count": 11,
   "metadata": {},
   "outputs": [
    {
     "data": {
      "image/png": "[encoded data removed]",
      "text/plain": [
       "<Figure size 1080x720 with 1 Axes>"
      ]
     },
     "metadata": {
      "needs_background": "light"
     },
     "output_type": "display_data"
    }
   ],
   "source": [
    "# plot scatter plot to compare BFS and Dikstra shortest path efficency \n",
    "ax1 = plt.rcParams[\"figure.figsize\"] = (15,10)\n",
    "\n",
    "ax1 = table.plot.scatter(x= \"Number_of_nodes\", y = \"Hours\",fontsize = 15, s =300)\n",
    "ax1.grid(alpha = 0.3)\n",
    "ax1.text(7, 43, '7 Nodes 46 Hours \\n BFS search ', fontsize=15,      color='red')\n",
    "ax1.text(9.6, 20, '10 Nodes 18 Hours \\n Dijkstra search', fontsize=15,      color='red')\n",
    "ax1.set_xlabel(\"Number of Nodes\", fontdict={'fontsize':15})\n",
    "ax1.set_ylabel(\"TIme in Hours\", fontdict={'fontsize':15})\n",
    "ax1.set_title(\"Dijkstra's Algorithm vs Breadth-First-Search\",fontweight=\"bold\", size=15)\n",
    "#ax.set_xticklabels(table[\"Hours\"] ,rotation=360)\n",
    "#ax.legend(loc=2, fontsize=15)\n",
    "\n",
    "plt.show(ax1)"
   ]
  },
  {
   "cell_type": "markdown",
   "metadata": {},
   "source": [
    "# Discussion and Executive Summary"
   ]
  },
  {
   "cell_type": "markdown",
   "metadata": {},
   "source": [
    "The graph and table above show that BFS found a much shorter path to the destination in terms of number of stops, resulting in only 7 stops/nodes (including start and end stop), but it took 46 Hours. Dijkstra's Algorithm took 10 stops (including start and end stop), but it took 18 Hours, which is the fastest time. \n",
    "\n",
    "The is not a fair comparison as BFS is meant for an unweighted graph and provides the shortest path and Dijkstra's Algorithm is meant for a weighted graph with all positive weights and provides the shortest distance."
   ]
  },
  {
   "cell_type": "markdown",
   "metadata": {},
   "source": [
    "Dijkstra's time complexity is O ( V + E l o g V ) and Breadth-first search (BFS) time complexity of O(V +E). V and E represent vertices (Nodes) and edges in the graph, respectively.\n",
    "\n",
    "Breadth-first search is just like Dijkstra's algorithm with all edge weights equal to 1. Dijkstra's algorithm is just like breadth-first search that respects edge costs and takes longer because it has to sort the edges.\n",
    "\n",
    "As a data engineer, it is essential to understand the purpose of  BFS and Dijkstra's algorithm. BFS should be used if all weights or distances between nodes are identical or don't exist, as it is a faster algorithm.  Dijkstra's algorithm should be used if weights/distance along the edges are or can be different. Dijkstra's algorithm uses edge weight to find the optimal path.\n"
   ]
  },
  {
   "cell_type": "code",
   "execution_count": null,
   "metadata": {},
   "outputs": [],
   "source": []
  }
 ],
 "metadata": {
  "kernelspec": {
   "display_name": "Python 3",
   "language": "python",
   "name": "python3"
  },
  "language_info": {
   "codemirror_mode": {
    "name": "ipython",
    "version": 3
   },
   "file_extension": ".py",
   "mimetype": "text/x-python",
   "name": "python",
   "nbconvert_exporter": "python",
   "pygments_lexer": "ipython3",
   "version": "3.8.5"
  }
 },
 "nbformat": 4,
 "nbformat_minor": 4
}
