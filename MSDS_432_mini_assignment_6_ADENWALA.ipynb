{
 "cells": [
  {
   "cell_type": "markdown",
   "metadata": {},
   "source": [
    "1.\tCreate a five level 'connections' graph (all unique, no duplicates).\n",
    "\n",
    "o\tThe first level should have five people and each person in first level should have five connections (they can be exclusive to one person or shared with other members on the same level, but all five should be unique, no duplicates)\n",
    "\n",
    "o\tEach person in the second level should have five connections (they can be exclusive to one person or shared with other members on the same level, but all five should be unique, no duplicates)\n",
    "\n",
    "o\tContinue the same for third, fourth, and fifth levels\n",
    "\n",
    "o\tThere should be no reverse connections (i.e. first level can connect to second level but second cannot have any reverse connection with the first, and so on for 3rd, 4th, and 5th levels)\n",
    "\n",
    "2.\tNow search for three people on each level and capture the time for each search.\n",
    "\n",
    "3.\tOrganize the results of the study into an table showing the 'name' that you searched for, the level of the search (first, second, third, fourth, fifth), and the time it took.  Discuss any findings.\n",
    "\n",
    "4.\tUsing the average time for each level, create a plot and compare times at each level (five bars or any other suitable visual).  Discuss any findings.\n",
    "\n",
    "Prepare an executive summary of your results, referring to the table and figures you have generated. Explain how your results relate to big O notation. Describe your results in language that management can understand. This summary should be included as text paragraphs in the Jupyter notebook.  Explain how the algorithm works and why it is a useful to data engineers.\n"
   ]
  },
  {
   "cell_type": "code",
   "execution_count": 1,
   "metadata": {},
   "outputs": [
    {
     "name": "stdout",
     "output_type": "stream",
     "text": [
      "python version 3.8.5\n"
     ]
    }
   ],
   "source": [
    "import pandas as pd\n",
    "import numpy as np\n",
    "import time\n",
    "import matplotlib.pyplot as plt\n",
    "import matplotlib.style as style\n",
    "from decimal import Decimal\n",
    "import random\n",
    "import string\n",
    "import matplotlib.ticker as mtick\n",
    "from collections import deque\n",
    "\n",
    "\n",
    "from platform import python_version\n",
    "\n",
    "print(\"python version\",python_version())\n",
    "\n",
    "import os\n",
    "import platform\n"
   ]
  },
  {
   "cell_type": "markdown",
   "metadata": {},
   "source": [
    "# 1. Create a five level 'connections' graph (all unique, no duplicates).\n",
    "\n",
    "# o The first level should have five people and each person in first level should have five connections (they can be exclusive to one person or shared with other members on the same level, but all five should be unique, no duplicates)\n",
    "\n",
    "# o Each person in the second level should have five connections (they can be exclusive to one person or shared with other members on the same level, but all five should be unique, no duplicates)\n",
    "\n",
    "# o Continue the same for third, fourth, and fifth levels\n",
    "\n",
    "# o There should be no reverse connections (i.e. first level can connect to second level but second cannot have any reverse connection with the first, and so on for 3rd, 4th, and 5th levels)"
   ]
  },
  {
   "cell_type": "markdown",
   "metadata": {},
   "source": [
    "## creating a graph in which all nodes have a unique names.\n",
    "\n",
    "Directional Graph\n",
    "\n",
    "in level 1 to 5 each node is connected to five unique nodes.\n",
    "creating 3905 unique nodes \n",
    "\n",
    "level 1 = 5 nodes\n",
    "\n",
    "level 2 = 25 nodes\n",
    "\n",
    "level 3 = 125 nodes\n",
    "\n",
    "level 4 = 625 nodes\n",
    "\n",
    "level 5 = 3125 nodes\n",
    "\n",
    "level 5: 3125 nodes are connected to an empty node \n",
    "\n",
    "step 1:\n",
    "\n",
    "create array for 3905 names\n",
    "\n",
    "step 2 :\n",
    "\n",
    "use list indexing and for loop to create a graph/dictionary object and a reference or metadata  dictionary where key = level and values = names\n"
   ]
  },
  {
   "cell_type": "markdown",
   "metadata": {},
   "source": [
    "# Alternate approach which gives the same result. (not used in this Notebook)\n",
    "The only difference is how the graph dictionary is set up\n",
    "\n",
    "Directional Graph\n",
    "\n",
    "creating a graph in which all nodes have a unique names + root node.\n",
    "\n",
    "root node is connected to level 1 nodes and each nodes in level 1 to 5 each node is connected to five unique nodes. creating 3905 unique nodes + 1 root node\n",
    "\n",
    "level 0 = 1 root node \n",
    "\n",
    "level 1 = 5 nodes\n",
    "\n",
    "level 2 = 25 nodes\n",
    "\n",
    "level 3 = 125 nodes\n",
    "\n",
    "level 4 = 625 nodes\n",
    "\n",
    "level 5 = 3125 nodes\n",
    "\n",
    "level 5: 3125 nodes are connected to an empty node\n",
    "\n",
    "step 1:\n",
    "\n",
    "create array for 3905 names\n",
    "\n",
    "step 2 :\n",
    "\n",
    "use list indexing and for loop to create a graph/dictionary object and a reference or metadata dictionary where key = level and values = names"
   ]
  },
  {
   "cell_type": "code",
   "execution_count": 2,
   "metadata": {},
   "outputs": [],
   "source": [
    "# create array for 3905  5 string random names that will be used to create the 5 level graph \n",
    "random.seed(0)\n",
    "array_name_3905 = [''.join(random.choices(string.ascii_letters, k = 5)) for _ in range(3905)]"
   ]
  },
  {
   "cell_type": "code",
   "execution_count": 3,
   "metadata": {},
   "outputs": [
    {
     "data": {
      "text/plain": [
       "3905"
      ]
     },
     "execution_count": 3,
     "metadata": {},
     "output_type": "execute_result"
    }
   ],
   "source": [
    "# test for any duplicate value with set and len function\n",
    "len(set(array_name_3905))"
   ]
  },
  {
   "cell_type": "code",
   "execution_count": 4,
   "metadata": {},
   "outputs": [],
   "source": [
    "# create an empty  dictonaty for graph \n",
    "graph = {}\n",
    "\n",
    "\n",
    "# create 5 nodes for level 1 and  25 nodes for level 2\n",
    "\n",
    "\n",
    "nodes ={} # create a dictonary to keep track of nodes and level\n",
    "\n",
    "nodes[1] = []\n",
    "i =0 \n",
    "for a in range(5,30,5):\n",
    "   \n",
    "    graph[array_name_3905[i]] = array_name_3905[a:a+5] \n",
    "    i +=1\n",
    "    nodes[1].append(array_name_3905[i])\n",
    "    \n",
    "# create 125 nodes for level 3\n",
    "\n",
    "nodes[2] =[]\n",
    "i = 5\n",
    "for a in range(30,155, 5):\n",
    "    graph[array_name_3905[i]] = array_name_3905[a:a+5] \n",
    "    i +=1\n",
    "    nodes[2].append(array_name_3905[i])\n",
    "\n",
    "# create  625 nodes for level 4\n",
    "\n",
    "nodes[3] =[]\n",
    "i = 30\n",
    "for a in range(155,780,5):\n",
    "    graph[array_name_3905[i]] = array_name_3905[a:a+5] \n",
    "    i +=1\n",
    "    nodes[3].append(array_name_3905[i])\n",
    "# create 3125 nodes for level 5\n",
    "\n",
    "nodes[4] =[]\n",
    "i = 155\n",
    "for a in range(780,3905,5):\n",
    "    graph[array_name_3905[i]] = array_name_3905[a:a+5] \n",
    "    i +=1\n",
    "    nodes[4].append(array_name_3905[i])\n",
    "    \n",
    "# create end empty nodes for the level 5: 3125 nodes \n",
    "nodes[5] = []\n",
    "for a in range(780,3905):\n",
    "    graph[array_name_3905[a]] =[]\n",
    "    nodes[5].append(array_name_3905[a])"
   ]
  },
  {
   "cell_type": "code",
   "execution_count": 5,
   "metadata": {},
   "outputs": [
    {
     "name": "stdout",
     "output_type": "stream",
     "text": [
      "{1: 5}\n",
      "{2: 25}\n",
      "{3: 125}\n",
      "{4: 625}\n",
      "{5: 3125}\n"
     ]
    }
   ],
   "source": [
    "# print level number and count of the nodes dictonary \n",
    "for key, value in nodes.items():\n",
    "    #print value\n",
    "    print({key: len([item for item in value if item])})"
   ]
  },
  {
   "cell_type": "code",
   "execution_count": 6,
   "metadata": {},
   "outputs": [
    {
     "data": {
      "text/plain": [
       "3905"
      ]
     },
     "execution_count": 6,
     "metadata": {},
     "output_type": "execute_result"
    }
   ],
   "source": [
    "# count the total nodes\n",
    "len(graph)"
   ]
  },
  {
   "cell_type": "markdown",
   "metadata": {},
   "source": [
    "# 2.\tNow search for three people on each level and capture the time for each search."
   ]
  },
  {
   "cell_type": "markdown",
   "metadata": {},
   "source": [
    "# create function for Breadth First Search (BFS)"
   ]
  },
  {
   "cell_type": "code",
   "execution_count": 7,
   "metadata": {},
   "outputs": [],
   "source": [
    "# modified the sample code given it module 6 from Grokking Algorithms (Bhargava 2016)\n",
    "\n",
    "def search(name):\n",
    "    search_queue = deque()\n",
    "    search_queue += nodes[1]\n",
    "    #print(\"Adding to search queue:\", search_queue)\n",
    "\n",
    "    # This array is how you keep track of which people you've searched before.\n",
    "    searched = []\n",
    "\n",
    "    while search_queue:\n",
    "\n",
    "        #print(\"search_queue now looks like this:\", search_queue)\n",
    "\n",
    "        person = search_queue.popleft()\n",
    "        # Only search this person if you haven't already searched them.\n",
    "        if person not in searched:\n",
    "\n",
    "            #print(\"Searching\", person)\n",
    "            if person == name:       \n",
    "\n",
    "        \n",
    "                return True\n",
    "            else:\n",
    "                search_queue += graph[person]\n",
    "                #print(\"  \", person, \"is NOT a mango seller!\\n   Adding to search queue:\", graph[person])\n",
    "                \n",
    "                # Marks this person as searched\n",
    "                searched.append(person)\n",
    "                #print(\"Finished searching\", person, \". Adding to searched list:\", searched)\n",
    "    return False\n",
    "\n"
   ]
  },
  {
   "cell_type": "code",
   "execution_count": 8,
   "metadata": {},
   "outputs": [],
   "source": [
    "# create runtime function that take 2 arguments. array and sorting function \n",
    "def graph_search_time(name):\n",
    "    start_time = time.perf_counter()\n",
    "    search(name)\n",
    "    run_time = time.perf_counter()- start_time\n",
    "    return run_time"
   ]
  },
  {
   "cell_type": "markdown",
   "metadata": {},
   "source": [
    "search 3 people on each level "
   ]
  },
  {
   "cell_type": "code",
   "execution_count": 9,
   "metadata": {},
   "outputs": [],
   "source": [
    "# store names of 3 people on level 1\n",
    "random.seed(0)\n",
    "\n",
    "\n",
    "level_one_names = random.sample(nodes[1], 3)\n",
    "\n",
    "# store names of 3 people on level 2\n",
    "\n",
    "\n",
    "level_two_names= random.sample(nodes[2], 3)\n",
    "\n",
    "\n",
    "# store names of 3 people on level 3\n",
    "\n",
    "\n",
    "level_three_names= random.sample(nodes[3], 3)\n",
    "\n",
    "# store names of 3 people on level 4\n",
    "\n",
    "\n",
    "level_four_names= random.sample(nodes[4], 3)\n",
    "\n",
    "# store names of 3 people on level 5\n",
    "\n",
    "\n",
    "level_five_names= random.sample(nodes[5], 3)\n"
   ]
  },
  {
   "cell_type": "code",
   "execution_count": 10,
   "metadata": {},
   "outputs": [],
   "source": [
    "# create a nested list for all the the names\n",
    "all_names = [level_one_names, level_two_names, level_three_names, level_four_names, level_five_names]"
   ]
  },
  {
   "cell_type": "code",
   "execution_count": 11,
   "metadata": {},
   "outputs": [],
   "source": [
    "# use for loop to save level number and runtime for all the randomly selected people \n",
    "\n",
    "level = 1\n",
    "run_time = []\n",
    "for i in all_names:\n",
    "    for a in i:\n",
    "        run_time.append([level,a , graph_search_time(a)])\n",
    "    level +=1\n",
    "        "
   ]
  },
  {
   "cell_type": "code",
   "execution_count": 12,
   "metadata": {},
   "outputs": [
    {
     "data": {
      "text/plain": [
       "[[1, 'qLUJy', 4.500000000184912e-06],\n",
       " [1, 'fwFVY', 2.3000000002326715e-06],\n",
       " [1, 'vOpyE', 5.999999999062311e-07],\n",
       " [2, 'jjFIy', 4.699999999857596e-06],\n",
       " [2, 'hKcDV', 8.700000000416708e-06],\n",
       " [2, 'lPrQf', 7.000000000090267e-06],\n",
       " [3, 'vQdHg', 4.1999999999653426e-05],\n",
       " [3, 'ctkBj', 0.00013750000000012363],\n",
       " [3, 'UaBdT', 0.00010360000000009251],\n",
       " [4, 'qTmHM', 0.0008596999999994637],\n",
       " [4, 'Urvrn', 0.0019041999999993564],\n",
       " [4, 'NxktI', 0.0011382000000006443],\n",
       " [5, 'ZXPiN', 0.042861600000000166],\n",
       " [5, 'vnXOA', 0.007389199999999541],\n",
       " [5, 'lRHuf', 0.03262589999999932]]"
      ]
     },
     "execution_count": 12,
     "metadata": {},
     "output_type": "execute_result"
    }
   ],
   "source": [
    "run_time"
   ]
  },
  {
   "cell_type": "markdown",
   "metadata": {},
   "source": [
    "# 3.\tOrganize the results of the study into an table showing the 'name' that you searched for, the level of the search (first, second, third, fourth, fifth), and the time it took.  Discuss any findings."
   ]
  },
  {
   "cell_type": "code",
   "execution_count": 13,
   "metadata": {},
   "outputs": [
    {
     "data": {
      "text/html": [
       "<div>\n",
       "<style scoped>\n",
       "    .dataframe tbody tr th:only-of-type {\n",
       "        vertical-align: middle;\n",
       "    }\n",
       "\n",
       "    .dataframe tbody tr th {\n",
       "        vertical-align: top;\n",
       "    }\n",
       "\n",
       "    .dataframe thead th {\n",
       "        text-align: right;\n",
       "    }\n",
       "</style>\n",
       "<table border=\"1\" class=\"dataframe\">\n",
       "  <thead>\n",
       "    <tr style=\"text-align: right;\">\n",
       "      <th></th>\n",
       "      <th>Level</th>\n",
       "      <th>Name</th>\n",
       "      <th>Run_time</th>\n",
       "    </tr>\n",
       "  </thead>\n",
       "  <tbody>\n",
       "    <tr>\n",
       "      <th>0</th>\n",
       "      <td>1</td>\n",
       "      <td>qLUJy</td>\n",
       "      <td>4.500000000184912e-06</td>\n",
       "    </tr>\n",
       "    <tr>\n",
       "      <th>1</th>\n",
       "      <td>1</td>\n",
       "      <td>fwFVY</td>\n",
       "      <td>2.3000000002326715e-06</td>\n",
       "    </tr>\n",
       "    <tr>\n",
       "      <th>2</th>\n",
       "      <td>1</td>\n",
       "      <td>vOpyE</td>\n",
       "      <td>5.999999999062311e-07</td>\n",
       "    </tr>\n",
       "    <tr>\n",
       "      <th>3</th>\n",
       "      <td>2</td>\n",
       "      <td>jjFIy</td>\n",
       "      <td>4.699999999857596e-06</td>\n",
       "    </tr>\n",
       "    <tr>\n",
       "      <th>4</th>\n",
       "      <td>2</td>\n",
       "      <td>hKcDV</td>\n",
       "      <td>8.700000000416708e-06</td>\n",
       "    </tr>\n",
       "    <tr>\n",
       "      <th>5</th>\n",
       "      <td>2</td>\n",
       "      <td>lPrQf</td>\n",
       "      <td>7.000000000090267e-06</td>\n",
       "    </tr>\n",
       "    <tr>\n",
       "      <th>6</th>\n",
       "      <td>3</td>\n",
       "      <td>vQdHg</td>\n",
       "      <td>4.1999999999653426e-05</td>\n",
       "    </tr>\n",
       "    <tr>\n",
       "      <th>7</th>\n",
       "      <td>3</td>\n",
       "      <td>ctkBj</td>\n",
       "      <td>0.00013750000000012363</td>\n",
       "    </tr>\n",
       "    <tr>\n",
       "      <th>8</th>\n",
       "      <td>3</td>\n",
       "      <td>UaBdT</td>\n",
       "      <td>0.00010360000000009251</td>\n",
       "    </tr>\n",
       "    <tr>\n",
       "      <th>9</th>\n",
       "      <td>4</td>\n",
       "      <td>qTmHM</td>\n",
       "      <td>0.0008596999999994637</td>\n",
       "    </tr>\n",
       "    <tr>\n",
       "      <th>10</th>\n",
       "      <td>4</td>\n",
       "      <td>Urvrn</td>\n",
       "      <td>0.0019041999999993564</td>\n",
       "    </tr>\n",
       "    <tr>\n",
       "      <th>11</th>\n",
       "      <td>4</td>\n",
       "      <td>NxktI</td>\n",
       "      <td>0.0011382000000006443</td>\n",
       "    </tr>\n",
       "    <tr>\n",
       "      <th>12</th>\n",
       "      <td>5</td>\n",
       "      <td>ZXPiN</td>\n",
       "      <td>0.042861600000000166</td>\n",
       "    </tr>\n",
       "    <tr>\n",
       "      <th>13</th>\n",
       "      <td>5</td>\n",
       "      <td>vnXOA</td>\n",
       "      <td>0.007389199999999541</td>\n",
       "    </tr>\n",
       "    <tr>\n",
       "      <th>14</th>\n",
       "      <td>5</td>\n",
       "      <td>lRHuf</td>\n",
       "      <td>0.03262589999999932</td>\n",
       "    </tr>\n",
       "  </tbody>\n",
       "</table>\n",
       "</div>"
      ],
      "text/plain": [
       "    Level   Name               Run_time\n",
       "0       1  qLUJy  4.500000000184912e-06\n",
       "1       1  fwFVY 2.3000000002326715e-06\n",
       "2       1  vOpyE  5.999999999062311e-07\n",
       "3       2  jjFIy  4.699999999857596e-06\n",
       "4       2  hKcDV  8.700000000416708e-06\n",
       "5       2  lPrQf  7.000000000090267e-06\n",
       "6       3  vQdHg 4.1999999999653426e-05\n",
       "7       3  ctkBj 0.00013750000000012363\n",
       "8       3  UaBdT 0.00010360000000009251\n",
       "9       4  qTmHM  0.0008596999999994637\n",
       "10      4  Urvrn  0.0019041999999993564\n",
       "11      4  NxktI  0.0011382000000006443\n",
       "12      5  ZXPiN   0.042861600000000166\n",
       "13      5  vnXOA   0.007389199999999541\n",
       "14      5  lRHuf    0.03262589999999932"
      ]
     },
     "execution_count": 13,
     "metadata": {},
     "output_type": "execute_result"
    }
   ],
   "source": [
    "# create data frame that shows the graph/dict level and name  and runtume in milliseconds for BFS algorithm\n",
    "table = pd.DataFrame(run_time, columns = [\"Level\", \"Name\", \"Run_time\"])\n",
    "pd.set_option('display.float_format', '{:}'.format)\n",
    "table"
   ]
  },
  {
   "cell_type": "markdown",
   "metadata": {},
   "source": [
    "Breadth first search starts at the tree root that is level 1 (5 nodes) and then explores all of the neighbor nodes at that depth prior to moving on to the nodes at the next depth level and continues so on.\n",
    "\n",
    "The table shows that search for names on level 1 of the dictionary is extremely fast and then level 2 is still very fast but gets slower and slower at nodes 3, 4 and 5 as the edges and vertices (nodes) increase by a factor of 5. The deeper in the graph that the search had to go, the longer the search took.\n"
   ]
  },
  {
   "cell_type": "markdown",
   "metadata": {},
   "source": [
    "# 4.\tUsing the average time for each level, create a plot and compare times at each level (five bars or any other suitable visual).  Discuss any findings.\n"
   ]
  },
  {
   "cell_type": "code",
   "execution_count": 14,
   "metadata": {},
   "outputs": [],
   "source": [
    "# use pandas group by method to get average runtime for each graph level \n",
    "\n",
    "summary_table = table.groupby('Level').mean('Run_time').reset_index().set_index(\"Level\")\n",
    "\n",
    "summary_table.columns= ['Average Run time']"
   ]
  },
  {
   "cell_type": "code",
   "execution_count": 15,
   "metadata": {
    "scrolled": false
   },
   "outputs": [
    {
     "data": {
      "image/png": "[encoded data removed]",
      "text/plain": [
       "<Figure size 1080x720 with 1 Axes>"
      ]
     },
     "metadata": {
      "needs_background": "light"
     },
     "output_type": "display_data"
    }
   ],
   "source": [
    "\n",
    "# plotting a bar plot to compare the average BFS runtime at the five levels\n",
    "plt.rcParams[\"figure.figsize\"] = (15,10)\n",
    "\n",
    "ax = summary_table.plot(kind='bar',fontsize = 15)\n",
    "ax.set_xlabel(\"Level\", fontdict={'fontsize':15})\n",
    "ax.set_ylabel(\"Execution Time in Milliseconds\", fontdict={'fontsize':15})\n",
    "ax.set_title(\"Search Algorithm Performance\",fontweight=\"bold\", size=15)\n",
    "ax.set_xticklabels(summary_table.index ,rotation=360)\n",
    "ax.legend(loc=2, fontsize=15)\n",
    "\n",
    "plt.show(ax)"
   ]
  },
  {
   "cell_type": "markdown",
   "metadata": {},
   "source": [
    "the above graph is extremely skewed to right. i will split the graph between level 1,2,3 and level 4,5"
   ]
  },
  {
   "cell_type": "code",
   "execution_count": 16,
   "metadata": {},
   "outputs": [
    {
     "data": {
      "image/png": "[encoded data removed]",
      "text/plain": [
       "<Figure size 1080x720 with 2 Axes>"
      ]
     },
     "metadata": {
      "needs_background": "light"
     },
     "output_type": "display_data"
    }
   ],
   "source": [
    "# split the graph to view average runtime of level 1,2 and 3 in one graph and level 4 and 5 in another graph in order \n",
    "# to get a better compariosn\n",
    "\n",
    "plt.rcParams[\"figure.figsize\"] = (15,10)\n",
    "\n",
    "fig, (ax11, ax22) = plt.subplots(1, 2)\n",
    "\n",
    "fig.suptitle('Horizontally stacked subplots')\n",
    "ax1 = summary_table.iloc[:3].plot(ax= ax11,kind='bar',fontsize = 15)\n",
    "ax1.set_xlabel(\"Level\", fontdict={'fontsize':15})\n",
    "ax1.set_ylabel(\"Execution Time in Milliseconds\", fontdict={'fontsize':15})\n",
    "ax1.set_title(\"Search Algorithm Performance\",fontweight=\"bold\", size=15)\n",
    "ax1.set_xticklabels(summary_table.index[:3] , rotation=360)\n",
    "ax1.legend(loc=2, fontsize=15)\n",
    "\n",
    "ax2 = summary_table.iloc[3:5].plot(ax= ax22,kind='bar',fontsize = 15)\n",
    "ax2.set_xlabel(\"Level\", fontdict={'fontsize':15})\n",
    "ax2.set_ylabel(\"Execution Time in Milliseconds\", fontdict={'fontsize':15})\n",
    "ax2.set_title(\"Search Algorithm Performance\",fontweight=\"bold\", size=15)\n",
    "ax2.set_xticklabels(summary_table.index[3:5], rotation=360)\n",
    "ax2.legend(loc=2, fontsize=15)\n",
    "plt.show(ax1,ax2)"
   ]
  },
  {
   "cell_type": "markdown",
   "metadata": {},
   "source": [
    "# Discussion and Executive Summary"
   ]
  },
  {
   "cell_type": "markdown",
   "metadata": {},
   "source": [
    "The above graph and table confirms the Breadth-first search (BFS) time complexity of O(V +E). V and E represent vertices (Nodes) and edges in the graph, respectively. The graph I created was one directional with no overlapping vertices. \n",
    "\n",
    "BFS finds if a path to the searched item exists and finds the shortest path if it does.\n",
    "\n",
    "BFS is a traversing algorithm which starts traversing from a source or starting node and traverses the graph layerwise or depth-wise, thus exploring the neighbor nodes (nodes which are directly connected to the source node) before moving on to the nodes at the next layer or depth level.\n",
    "\n",
    "As a data engineer, it is essential to know how BFS works. The search is efficient when the graph is narrow and shallow but can get quite time- and memory-expensive for complex graphs that are wide and deep. It is important to know the structure of the graph before we can implement a BFS algorithm.\n",
    "\n",
    "\n"
   ]
  }
 ],
 "metadata": {
  "kernelspec": {
   "display_name": "Python 3",
   "language": "python",
   "name": "python3"
  },
  "language_info": {
   "codemirror_mode": {
    "name": "ipython",
    "version": 3
   },
   "file_extension": ".py",
   "mimetype": "text/x-python",
   "name": "python",
   "nbconvert_exporter": "python",
   "pygments_lexer": "ipython3",
   "version": "3.8.5"
  }
 },
 "nbformat": 4,
 "nbformat_minor": 4
}
