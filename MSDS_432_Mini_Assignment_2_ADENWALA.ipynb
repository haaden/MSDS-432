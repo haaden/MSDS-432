{
 "cells": [
  {
   "cell_type": "markdown",
   "metadata": {},
   "source": [
    "1.\tWe will again generate random data for this assignment.  Please set up five data arrays of length 5,000, 10,000, 15,000, 20,000, and 25,000 of uniformly distributed random numbers (you may use either integers or floating point).  Ensure that a common random number seed is used to generate each of the arrays. \n",
    "2.\tExecute the base algorithm (Selection Sort) for each of the random number arrays, noting the execution time with each execution. Use one of the timing methods we learned in class.\n",
    "3.\tJust as in the last assignment, please organize the results of the study into a table showing the size of data array and the time taken to sort the array. Discuss the differences in timing and how they relate to data type and length of array.  \n",
    "4.\tUse Python matplotlib or Seaborn to generate a measure of the size of the data set on the horizontal axis and with execution time in milliseconds on the vertical axis. The plot should show execution time against problem size for each form of the algorithm being tested.\n",
    "\n",
    "\n"
   ]
  },
  {
   "cell_type": "code",
   "execution_count": 154,
   "metadata": {},
   "outputs": [],
   "source": [
    "import pandas as pd\n",
    "import numpy as np\n",
    "import random\n",
    "import string\n",
    "import time\n",
    "\n",
    "import matplotlib.pyplot as plt\n",
    "import matplotlib.style as style\n",
    "from IPython.core.interactiveshell import InteractiveShell\n",
    "InteractiveShell.ast_node_interactivity = \"all\""
   ]
  },
  {
   "cell_type": "code",
   "execution_count": 155,
   "metadata": {},
   "outputs": [
    {
     "data": {
      "text/plain": [
       "'\\nCreated on Tue Jan 15 21:26:53 2019\\n\\n@author: dev2\\n'"
      ]
     },
     "execution_count": 155,
     "metadata": {},
     "output_type": "execute_result"
    }
   ],
   "source": [
    "# -*- coding: utf-8 -*-\n",
    "\"\"\"\n",
    "Created on Tue Jan 15 21:26:53 2019\n",
    "\n",
    "@author: dev2\n",
    "\"\"\"\n",
    "\n",
    "# Finds the smallest value in an array\n",
    "def findSmallest_LEV(arr):\n",
    "    \n",
    "  print(\"  Finding smallest value in {0}\".format(arr))  \n",
    "    \n",
    "  # Stores the smallest value\n",
    "  smallest = arr[0]\n",
    "  # Stores the index of the smallest value\n",
    "  smallest_index = 0\n",
    "  \n",
    "  print(\"      **** New smallest values is {0} ****\".format(smallest))\n",
    "  \n",
    "  for i in range(1, len(arr)):\n",
    "\n",
    "    print(\"    Comparing {0} and {1}\".format(smallest, arr[i]))\n",
    "    if arr[i] < smallest:\n",
    "      smallest_index = i\n",
    "      smallest = arr[i]      \n",
    "      print(\"      **** New smallest values is {0} ****\".format(smallest))\n",
    "      \n",
    "      \n",
    "  print(\"    DONE searching for smallest value in this iteration which is {0}\".format(smallest)) \n",
    "  return smallest_index"
   ]
  },
  {
   "cell_type": "code",
   "execution_count": 156,
   "metadata": {},
   "outputs": [
    {
     "name": "stdout",
     "output_type": "stream",
     "text": [
      "STARTING SORT ALGORITHM\n",
      "  Finding smallest value in [5, 3, 6, 2, 10]\n",
      "      **** New smallest values is 5 ****\n",
      "    Comparing 5 and 3\n",
      "      **** New smallest values is 3 ****\n",
      "    Comparing 3 and 6\n",
      "    Comparing 3 and 2\n",
      "      **** New smallest values is 2 ****\n",
      "    Comparing 2 and 10\n",
      "    DONE searching for smallest value in this iteration which is 2\n",
      "      Smallest value of 2 is at index 3 [---] output array is now [2]\n",
      "  Finding smallest value in [5, 3, 6, 10]\n",
      "      **** New smallest values is 5 ****\n",
      "    Comparing 5 and 3\n",
      "      **** New smallest values is 3 ****\n",
      "    Comparing 3 and 6\n",
      "    Comparing 3 and 10\n",
      "    DONE searching for smallest value in this iteration which is 3\n",
      "      Smallest value of 3 is at index 1 [---] output array is now [2, 3]\n",
      "  Finding smallest value in [5, 6, 10]\n",
      "      **** New smallest values is 5 ****\n",
      "    Comparing 5 and 6\n",
      "    Comparing 5 and 10\n",
      "    DONE searching for smallest value in this iteration which is 5\n",
      "      Smallest value of 5 is at index 0 [---] output array is now [2, 3, 5]\n",
      "  Finding smallest value in [6, 10]\n",
      "      **** New smallest values is 6 ****\n",
      "    Comparing 6 and 10\n",
      "    DONE searching for smallest value in this iteration which is 6\n",
      "      Smallest value of 6 is at index 0 [---] output array is now [2, 3, 5, 6]\n",
      "  Finding smallest value in [10]\n",
      "      **** New smallest values is 10 ****\n",
      "    DONE searching for smallest value in this iteration which is 10\n",
      "      Smallest value of 10 is at index 0 [---] output array is now [2, 3, 5, 6, 10]\n",
      "FINISHING SORT ALGORITHM\n",
      "[2, 3, 5, 6, 10]\n"
     ]
    }
   ],
   "source": [
    "# Sort array\n",
    "def selectionSort_LEV(arr):\n",
    "  newArr = []\n",
    "  \n",
    "  print(\"STARTING SORT ALGORITHM\")\n",
    "  \n",
    "  for i in range(len(arr)):\n",
    "      \n",
    "      # Finds the smallest element in the array and adds it to the new array\n",
    "      smallest_idx = findSmallest_LEV(arr)\n",
    "      smallest_val = arr.pop(smallest_idx)\n",
    "      \n",
    "      newArr.append(smallest_val)\n",
    "      \n",
    "      print(\"      Smallest value of {0} is at index {1} [---] output array is now {2}\".format(smallest_val, smallest_idx, newArr))\n",
    "      \n",
    "  print(\"FINISHING SORT ALGORITHM\")    \n",
    "      \n",
    "  return newArr\n",
    "\n",
    "print(selectionSort_LEV([5, 3, 6, 2, 10]))\n",
    "\n"
   ]
  },
  {
   "cell_type": "code",
   "execution_count": 157,
   "metadata": {},
   "outputs": [],
   "source": [
    "def findSmallest(arr):\n",
    "  smallest = arr[0]\n",
    "  smallest_index = 0\n",
    "  for i in range(1, len(arr)):\n",
    "    if arr[i] < smallest:\n",
    "      smallest_index = i\n",
    "      smallest = arr[i]      \n",
    "  return smallest_index"
   ]
  },
  {
   "cell_type": "code",
   "execution_count": 158,
   "metadata": {},
   "outputs": [
    {
     "name": "stdout",
     "output_type": "stream",
     "text": [
      "[2, 3, 5, 6, 10]\n"
     ]
    }
   ],
   "source": [
    "def selectionSort(arr):\n",
    "  newArr = []\n",
    "  for i in range(len(arr)):\n",
    "      smallest = findSmallest(arr)\n",
    "      newArr.append(arr.pop(smallest))\n",
    "  return newArr\n",
    "\n",
    "\n",
    "print(selectionSort([5, 3, 6, 2, 10]))"
   ]
  },
  {
   "cell_type": "markdown",
   "metadata": {},
   "source": [
    "#     1. data arrays of length 5,000, 10,000, 15,000, 20,000, and 25,000 of uniformly distributed random strings of lenght 5, random strings of lenght 15, integers and floating-point numbers"
   ]
  },
  {
   "cell_type": "code",
   "execution_count": 159,
   "metadata": {},
   "outputs": [],
   "source": [
    "#use random seed generator \n",
    "np.random.seed(0)\n",
    "\n",
    "# generate uniformly distributed random strings of lenght 5\n",
    "array_string_5_5000 = [''.join(random.choices(string.ascii_letters, k = 5)) for _ in range(5000)]\n",
    "array_string_5_10000 = [''.join(random.choices(string.ascii_letters, k = 5)) for _ in range(10000)]\n",
    "array_string_5_15000 = [''.join(random.choices(string.ascii_letters, k = 5)) for _ in range(15000)]\n",
    "array_string_5_20000 = [''.join(random.choices(string.ascii_letters, k = 5)) for _ in range(20000)]\n",
    "\n",
    "# generate uniformly distributed random strings of lenght 15\n",
    "array_string_15_5000 = [''.join(random.choices(string.ascii_letters, k = 15)) for _ in range(5000)]\n",
    "array_string_15_10000 = [''.join(random.choices(string.ascii_letters, k = 15)) for _ in range(10000)]\n",
    "array_string_15_15000 = [''.join(random.choices(string.ascii_letters, k = 15)) for _ in range(15000)]\n",
    "array_string_15_20000 = [''.join(random.choices(string.ascii_letters, k = 15)) for _ in range(20000)]\n",
    "\n",
    "# generate uniformly distributed random integers\n",
    "array_int_5000 = list(np.random.randint(0, 1000000, 5000))\n",
    "array_int_10000 = list(np.random.randint(0, 1000000, 10000))\n",
    "array_int_15000 = list(np.random.randint(0, 1000000, 15000))\n",
    "array_int_20000 = list(np.random.randint(0, 1000000, 20000))\n",
    "\n",
    "# generate uniformly distributed random floating-point numbers\n",
    "array_float_5000 = list(np.random.random(5000))\n",
    "array_float_10000 = list(np.random.random(10000))\n",
    "array_float_15000 = list(np.random.random(15000))\n",
    "array_float_20000 = list(np.random.random(20000))\n"
   ]
  },
  {
   "cell_type": "markdown",
   "metadata": {},
   "source": [
    "# 2. Execute the base algorithm (Selection Sort) for each of the random number arrays, noting the execution time with each execution. Use one of the timing methods we learned in class."
   ]
  },
  {
   "cell_type": "markdown",
   "metadata": {},
   "source": [
    "# Function to calculate NumPy quick sort runtime "
   ]
  },
  {
   "cell_type": "code",
   "execution_count": 160,
   "metadata": {},
   "outputs": [],
   "source": [
    "# create NumPy quick sort function \n",
    "def np_sort_run_time(arr):\n",
    "    start_time = time.perf_counter()\n",
    "    np.sort(arr, kind = 'quicksort')\n",
    "    run_time = time.perf_counter()- start_time\n",
    "    return run_time\n",
    "    "
   ]
  },
  {
   "cell_type": "markdown",
   "metadata": {},
   "source": [
    "# calculate runtime for arrays with  strings of lenght 5 using numpy quicksort\n"
   ]
  },
  {
   "cell_type": "code",
   "execution_count": 161,
   "metadata": {},
   "outputs": [
    {
     "data": {
      "text/plain": [
       "[0.0007699999987380579,\n",
       " 0.0017771999991964549,\n",
       " 0.002332700001716148,\n",
       " 0.0031999000020732637]"
      ]
     },
     "execution_count": 161,
     "metadata": {},
     "output_type": "execute_result"
    }
   ],
   "source": [
    "# assign arrays with string of len 5 to list in acending order\n",
    "arr_str_5_np = [array_string_5_5000,array_string_5_10000, array_string_5_15000,array_string_5_20000]\n",
    "\n",
    "#create a empty list for runtime\n",
    "arr_str_5_time_np = []\n",
    "\n",
    "# use for loop to apply the NumPy quick sort runtime fucntion on the arrays\n",
    "for i in arr_str_5_np:\n",
    "     arr_str_5_time_np.append(np_sort_run_time(i))\n",
    "        \n",
    "arr_str_5_time_np"
   ]
  },
  {
   "cell_type": "markdown",
   "metadata": {},
   "source": [
    "# calculate runtime for arrays with strings of length 15 using NumPy quicksort"
   ]
  },
  {
   "cell_type": "code",
   "execution_count": 162,
   "metadata": {},
   "outputs": [
    {
     "data": {
      "text/plain": [
       "[0.0010266999997838866,\n",
       " 0.002433100002235733,\n",
       " 0.0041845000014291145,\n",
       " 0.004134299997531343]"
      ]
     },
     "execution_count": 162,
     "metadata": {},
     "output_type": "execute_result"
    }
   ],
   "source": [
    "# assign arrays with string of len 15 to list in acending order\n",
    "arr_str_15_np = [array_string_15_5000,array_string_15_10000, array_string_15_15000,array_string_15_20000]\n",
    "\n",
    "#create a empty list for runtime\n",
    "arr_str_15_time_np = []\n",
    "\n",
    "# use for loop to apply the NumPy quick sort runtime fucntion on the arrays\n",
    "for i in arr_str_15_np:\n",
    "     arr_str_15_time_np.append(np_sort_run_time(i))\n",
    "\n",
    "arr_str_15_time_np"
   ]
  },
  {
   "cell_type": "markdown",
   "metadata": {},
   "source": [
    "# calculate runtime for arrays with integers using NumPy quicksort"
   ]
  },
  {
   "cell_type": "code",
   "execution_count": 163,
   "metadata": {},
   "outputs": [
    {
     "data": {
      "text/plain": [
       "[0.000835999999253545,\n",
       " 0.0011760999987018295,\n",
       " 0.0016595999986748211,\n",
       " 0.0024989000012283213]"
      ]
     },
     "execution_count": 163,
     "metadata": {},
     "output_type": "execute_result"
    }
   ],
   "source": [
    "# assign arrays with integer to a list in acending order\n",
    "arr_int_np = [array_int_5000,array_int_10000, array_int_15000,array_int_20000]\n",
    "\n",
    "#create a empty list for runtime\n",
    "arr_int_time_np = []\n",
    "\n",
    "# use for loop to apply the NumPy quick sort runtime fucntion on the arrays\n",
    "for i in arr_int_np:\n",
    "     arr_int_time_np.append(np_sort_run_time(i))\n",
    "        \n",
    "arr_int_time_np"
   ]
  },
  {
   "cell_type": "markdown",
   "metadata": {},
   "source": [
    "# calculate runtime for arrays with floating-point numbers using NumPy quicksort"
   ]
  },
  {
   "cell_type": "code",
   "execution_count": 164,
   "metadata": {},
   "outputs": [
    {
     "data": {
      "text/plain": [
       "[0.0005572999980358873,\n",
       " 0.0014885000018693972,\n",
       " 0.002177099999244092,\n",
       " 0.0023355000012088567]"
      ]
     },
     "execution_count": 164,
     "metadata": {},
     "output_type": "execute_result"
    }
   ],
   "source": [
    "# assign arrays with floating-point numbers to a list in acending order\n",
    "arr_float_np = [array_float_5000,array_float_10000, array_float_15000,array_float_20000]\n",
    "\n",
    "#create a empty list for runtime\n",
    "arr_float_time_np = []\n",
    "\n",
    "# use for loop to apply the NumPy quick sort runtime fucntion on the arrays\n",
    "for i in arr_float_np:\n",
    "     arr_float_time_np.append(np_sort_run_time(i))\n",
    "        \n",
    "arr_float_time_np"
   ]
  },
  {
   "cell_type": "markdown",
   "metadata": {},
   "source": [
    "# Function to calculate selection sort runtime (Base Algorithm)\n"
   ]
  },
  {
   "cell_type": "code",
   "execution_count": 165,
   "metadata": {},
   "outputs": [],
   "source": [
    "# create sort runtime function \n",
    "def sort_run_time(arr):\n",
    "    start_time = time.perf_counter()\n",
    "    selectionSort(arr)\n",
    "    run_time = time.perf_counter()- start_time\n",
    "    return run_time\n",
    "    "
   ]
  },
  {
   "cell_type": "markdown",
   "metadata": {},
   "source": [
    "# calculate runtime for arrays with  strings of length 5 using selection sort function\n"
   ]
  },
  {
   "cell_type": "code",
   "execution_count": 166,
   "metadata": {},
   "outputs": [
    {
     "data": {
      "text/plain": [
       "[0.6757141999987653, 2.6532681999997294, 5.670737400003418, 10.552855300000374]"
      ]
     },
     "execution_count": 166,
     "metadata": {},
     "output_type": "execute_result"
    }
   ],
   "source": [
    "# assign arrays with string of len 5 to list in acending order\n",
    "arr_str_5 = [array_string_5_5000,array_string_5_10000, array_string_5_15000,array_string_5_20000]\n",
    "\n",
    "#create a empty list for runtime\n",
    "arr_str_5_time = []\n",
    "\n",
    "# use for loop to apply the selection sort runtime fucntion on the arrays\n",
    "for i in arr_str_5:\n",
    "     arr_str_5_time.append(sort_run_time(i))\n",
    "        \n",
    "arr_str_5_time"
   ]
  },
  {
   "cell_type": "markdown",
   "metadata": {},
   "source": [
    "# calculate runtime for arrays with strings of length 15 using selection sort function"
   ]
  },
  {
   "cell_type": "code",
   "execution_count": 167,
   "metadata": {},
   "outputs": [
    {
     "data": {
      "text/plain": [
       "[0.691465200001403, 2.6829924000012397, 5.851182400001562, 10.849202200002765]"
      ]
     },
     "execution_count": 167,
     "metadata": {},
     "output_type": "execute_result"
    }
   ],
   "source": [
    "# assign arrays with string of len 15 to list in acending order\n",
    "arr_str_15 = [array_string_15_5000,array_string_15_10000, array_string_15_15000,array_string_15_20000]\n",
    "\n",
    "#create a empty list for runtime\n",
    "arr_str_15_time = []\n",
    "\n",
    "# use for loop to apply the selection sort runtime fucntion on the arrays\n",
    "for i in arr_str_15:\n",
    "     arr_str_15_time.append(sort_run_time(i))\n",
    "\n",
    "arr_str_15_time"
   ]
  },
  {
   "cell_type": "markdown",
   "metadata": {},
   "source": [
    "# calculate runtime for arrays with integers using selection sort function"
   ]
  },
  {
   "cell_type": "code",
   "execution_count": 168,
   "metadata": {},
   "outputs": [
    {
     "data": {
      "text/plain": [
       "[0.6822360000005574, 2.702464099998906, 6.002531000001909, 10.854996800000663]"
      ]
     },
     "execution_count": 168,
     "metadata": {},
     "output_type": "execute_result"
    }
   ],
   "source": [
    "# assign arrays with integer to a list in acending order\n",
    "arr_int = [array_int_5000,array_int_10000, array_int_15000,array_int_20000]\n",
    "\n",
    "#create a empty list for runtime\n",
    "arr_int_time = []\n",
    "\n",
    "# use for loop to apply the selection sort runtime fucntion on the arrays\n",
    "for i in arr_int:\n",
    "     arr_int_time.append(sort_run_time(i))\n",
    "        \n",
    "arr_int_time"
   ]
  },
  {
   "cell_type": "markdown",
   "metadata": {},
   "source": [
    "# calculate runtime for arrays with integers using selection sort function"
   ]
  },
  {
   "cell_type": "code",
   "execution_count": 169,
   "metadata": {},
   "outputs": [
    {
     "data": {
      "text/plain": [
       "[0.7328761999997369,\n",
       " 2.8405467999982648,\n",
       " 6.2380438999971375,\n",
       " 11.477469599998585]"
      ]
     },
     "execution_count": 169,
     "metadata": {},
     "output_type": "execute_result"
    }
   ],
   "source": [
    "# assign arrays with floating-point numbers to a list in acending order\n",
    "arr_float = [array_float_5000,array_float_10000, array_float_15000,array_float_20000]\n",
    "\n",
    "#create a empty list for runtime\n",
    "arr_float_time = []\n",
    "\n",
    "# use for loop to apply the selection sort runtime fucntion on the arrays\n",
    "for i in arr_float:\n",
    "     arr_float_time.append(sort_run_time(i))\n",
    "        \n",
    "arr_float_time"
   ]
  },
  {
   "cell_type": "markdown",
   "metadata": {},
   "source": [
    "# 3. Just as in the last assignment, please organize the results of the study into a table showing the size of data array and the time taken to sort the array. Discuss the differences in timing and how they relate to data type and length of array."
   ]
  },
  {
   "cell_type": "markdown",
   "metadata": {},
   "source": [
    "# Create Data Frame"
   ]
  },
  {
   "cell_type": "code",
   "execution_count": 170,
   "metadata": {},
   "outputs": [
    {
     "name": "stdout",
     "output_type": "stream",
     "text": [
      "\n",
      "\n",
      "-------Selection sort data type comparison----------\n"
     ]
    },
    {
     "data": {
      "text/html": [
       "<div>\n",
       "<style scoped>\n",
       "    .dataframe tbody tr th:only-of-type {\n",
       "        vertical-align: middle;\n",
       "    }\n",
       "\n",
       "    .dataframe tbody tr th {\n",
       "        vertical-align: top;\n",
       "    }\n",
       "\n",
       "    .dataframe thead th {\n",
       "        text-align: right;\n",
       "    }\n",
       "</style>\n",
       "<table border=\"1\" class=\"dataframe\">\n",
       "  <thead>\n",
       "    <tr style=\"text-align: right;\">\n",
       "      <th></th>\n",
       "      <th>array_length</th>\n",
       "      <th>dtype_str_len_5</th>\n",
       "      <th>dtype_str_len_15</th>\n",
       "      <th>dtype_int</th>\n",
       "      <th>dtype_float</th>\n",
       "    </tr>\n",
       "  </thead>\n",
       "  <tbody>\n",
       "    <tr>\n",
       "      <th>0</th>\n",
       "      <td>5000</td>\n",
       "      <td>0.675714</td>\n",
       "      <td>0.691465</td>\n",
       "      <td>0.682236</td>\n",
       "      <td>0.732876</td>\n",
       "    </tr>\n",
       "    <tr>\n",
       "      <th>1</th>\n",
       "      <td>10000</td>\n",
       "      <td>2.653268</td>\n",
       "      <td>2.682992</td>\n",
       "      <td>2.702464</td>\n",
       "      <td>2.840547</td>\n",
       "    </tr>\n",
       "    <tr>\n",
       "      <th>2</th>\n",
       "      <td>15000</td>\n",
       "      <td>5.670737</td>\n",
       "      <td>5.851182</td>\n",
       "      <td>6.002531</td>\n",
       "      <td>6.238044</td>\n",
       "    </tr>\n",
       "    <tr>\n",
       "      <th>3</th>\n",
       "      <td>20000</td>\n",
       "      <td>10.552855</td>\n",
       "      <td>10.849202</td>\n",
       "      <td>10.854997</td>\n",
       "      <td>11.477470</td>\n",
       "    </tr>\n",
       "  </tbody>\n",
       "</table>\n",
       "</div>"
      ],
      "text/plain": [
       "   array_length  dtype_str_len_5  dtype_str_len_15  dtype_int  dtype_float\n",
       "0          5000         0.675714          0.691465   0.682236     0.732876\n",
       "1         10000         2.653268          2.682992   2.702464     2.840547\n",
       "2         15000         5.670737          5.851182   6.002531     6.238044\n",
       "3         20000        10.552855         10.849202  10.854997    11.477470"
      ]
     },
     "execution_count": 170,
     "metadata": {},
     "output_type": "execute_result"
    },
    {
     "name": "stdout",
     "output_type": "stream",
     "text": [
      "\n",
      "\n",
      "-------NumPy Quick sort data type comparison---------\n"
     ]
    },
    {
     "data": {
      "text/html": [
       "<div>\n",
       "<style scoped>\n",
       "    .dataframe tbody tr th:only-of-type {\n",
       "        vertical-align: middle;\n",
       "    }\n",
       "\n",
       "    .dataframe tbody tr th {\n",
       "        vertical-align: top;\n",
       "    }\n",
       "\n",
       "    .dataframe thead th {\n",
       "        text-align: right;\n",
       "    }\n",
       "</style>\n",
       "<table border=\"1\" class=\"dataframe\">\n",
       "  <thead>\n",
       "    <tr style=\"text-align: right;\">\n",
       "      <th></th>\n",
       "      <th>array_length</th>\n",
       "      <th>dtype_str_len_5_np</th>\n",
       "      <th>dtype_str_len_15_np</th>\n",
       "      <th>dtype_int_np</th>\n",
       "      <th>dtype_float_np</th>\n",
       "    </tr>\n",
       "  </thead>\n",
       "  <tbody>\n",
       "    <tr>\n",
       "      <th>0</th>\n",
       "      <td>5000</td>\n",
       "      <td>0.000770</td>\n",
       "      <td>0.001027</td>\n",
       "      <td>0.000836</td>\n",
       "      <td>0.000557</td>\n",
       "    </tr>\n",
       "    <tr>\n",
       "      <th>1</th>\n",
       "      <td>10000</td>\n",
       "      <td>0.001777</td>\n",
       "      <td>0.002433</td>\n",
       "      <td>0.001176</td>\n",
       "      <td>0.001489</td>\n",
       "    </tr>\n",
       "    <tr>\n",
       "      <th>2</th>\n",
       "      <td>15000</td>\n",
       "      <td>0.002333</td>\n",
       "      <td>0.004185</td>\n",
       "      <td>0.001660</td>\n",
       "      <td>0.002177</td>\n",
       "    </tr>\n",
       "    <tr>\n",
       "      <th>3</th>\n",
       "      <td>20000</td>\n",
       "      <td>0.003200</td>\n",
       "      <td>0.004134</td>\n",
       "      <td>0.002499</td>\n",
       "      <td>0.002336</td>\n",
       "    </tr>\n",
       "  </tbody>\n",
       "</table>\n",
       "</div>"
      ],
      "text/plain": [
       "   array_length  dtype_str_len_5_np  dtype_str_len_15_np  dtype_int_np  \\\n",
       "0          5000            0.000770             0.001027      0.000836   \n",
       "1         10000            0.001777             0.002433      0.001176   \n",
       "2         15000            0.002333             0.004185      0.001660   \n",
       "3         20000            0.003200             0.004134      0.002499   \n",
       "\n",
       "   dtype_float_np  \n",
       "0        0.000557  \n",
       "1        0.001489  \n",
       "2        0.002177  \n",
       "3        0.002336  "
      ]
     },
     "execution_count": 170,
     "metadata": {},
     "output_type": "execute_result"
    }
   ],
   "source": [
    "# create data frame that shows array lenght and runtume in milliseconds for each data type \n",
    "\n",
    "table_summary = pd.DataFrame({'array_length':[5000,10000,15000,20000],\n",
    "                              'dtype_str_len_5': arr_str_5_time, 'dtype_str_len_15': arr_str_15_time, \n",
    "              'dtype_int': arr_int_time, 'dtype_float':arr_float_time})\n",
    "print('\\n')\n",
    "print('-------Selection sort data type comparison----------')\n",
    "table_summary\n",
    "print('\\n')\n",
    "table_summary_np = pd.DataFrame({'array_length':[5000,10000,15000,20000],\n",
    "                             'dtype_str_len_5_np': arr_str_5_time_np, 'dtype_str_len_15_np': arr_str_15_time_np, \n",
    "              'dtype_int_np': arr_int_time_np, 'dtype_float_np':arr_float_time_np})\n",
    "print('-------NumPy Quick sort data type comparison---------')\n",
    "table_summary_np"
   ]
  },
  {
   "cell_type": "markdown",
   "metadata": {},
   "source": [
    "# Discussion "
   ]
  },
  {
   "cell_type": "markdown",
   "metadata": {},
   "source": [
    "There is not a lot of variation in the different times across the data types for both selection sort and NumPy quick sort. For selection sort, I had expected  that the string sorting would take considerably longer compared to sorting integer or float data types, but that is not the case. Float took the longest followed by integer then string length 15 and then string length 5, which was the fastest. This is counter intuitive but may be because the max float length is 17 decimal places and this length may be a factor when copying the data to a new array and costing more time. \n",
    "\n",
    "NumPy quick sort performed as expected: the integer was the fastest, followed by float then string of length 5 and finally string of length 15. This makes sense as string comparison is computationally more costly than numeric comparison. "
   ]
  },
  {
   "cell_type": "markdown",
   "metadata": {},
   "source": [
    "# 4. Use Python matplotlib or Seaborn to generate a measure of the size of the data set on the horizontal axis and with execution time in milliseconds on the vertical axis. The plot should show execution time against problem size for each form of the algorithm being tested."
   ]
  },
  {
   "cell_type": "code",
   "execution_count": 178,
   "metadata": {},
   "outputs": [
    {
     "data": {
      "image/png": "[encoded data removed]",
      "text/plain": [
       "<Figure size 1080x720 with 1 Axes>"
      ]
     },
     "metadata": {
      "needs_background": "light"
     },
     "output_type": "display_data"
    },
    {
     "data": {
      "image/png": "[encoded data removed]",
      "text/plain": [
       "<Figure size 1080x720 with 1 Axes>"
      ]
     },
     "metadata": {
      "needs_background": "light"
     },
     "output_type": "display_data"
    }
   ],
   "source": [
    "from IPython.core.interactiveshell import InteractiveShell\n",
    "InteractiveShell.ast_node_interactivity = \"none\"\n",
    "# plot line graph to compare  selection sort xecution time between strings of length 5 and 15 , integers and floating-point numbers\n",
    "\n",
    "plt.rcParams[\"figure.figsize\"] = (15,10)\n",
    "plt.grid()\n",
    "plt.plot(table_summary['array_length'], table_summary['dtype_str_len_5'], 'r--', \n",
    "         table_summary['array_length'], table_summary['dtype_str_len_15'],'b--',\n",
    "         table_summary['array_length'], table_summary['dtype_int'], 'g--',\n",
    "         table_summary['array_length'], table_summary['dtype_float'],'y--',)\n",
    "\n",
    "plt.legend(['string len 5','string len 15', 'integer','float'], loc=2, prop={'size': 15})\n",
    "plt.xlabel('Array length')\n",
    "plt.ylabel('Execution Time in Milliseconds')\n",
    "plt.yticks(np.arange(min((table_summary.iloc[:,1:]).min()), max((table_summary.iloc[:,1:]).max())+1, .5))\n",
    "plt.xticks(np.arange(5000,22000, 1000))\n",
    "plt.title( 'Selection Sort Execution Time')\n",
    "plt.show()\n",
    "\n",
    "plt.rcParams[\"figure.figsize\"] = (15,10)\n",
    "plt.grid()\n",
    "plt.plot(table_summary_np['array_length'], table_summary_np['dtype_str_len_5_np'], 'k--',\n",
    "         table_summary_np['array_length'], table_summary_np['dtype_str_len_15_np'],'m--',\n",
    "         table_summary_np['array_length'], table_summary_np['dtype_int_np'], 'b--',\n",
    "         table_summary_np['array_length'], table_summary_np['dtype_float_np'],'c--')\n",
    "\n",
    "plt.legend(['string len 5','string len 15', 'integer','float'], loc=2, prop={'size': 15})\n",
    "plt.xlabel('Array length')\n",
    "plt.ylabel('Execution Time in Milliseconds')\n",
    "plt.title( 'Numpy Quick Sort Execution Time')\n",
    "plt.show()\n"
   ]
  },
  {
   "cell_type": "markdown",
   "metadata": {},
   "source": [
    "# Discussion  and Executive summary "
   ]
  },
  {
   "cell_type": "markdown",
   "metadata": {},
   "source": [
    "The chart and table above compare the performance of selection sort function (self created) and NumPy quick sort function (buit-in) on strings, integers and floating point numbers. There is not a lot of variation in the different times across the data types for both the sorting functions. \n",
    "\n",
    "The selection sort time complexity is O(n^2). The steep increase in the slope of all the data types, as seen in the selection sort execution time graph, confirms the time complexity of selection sort. The runtime of O(n^2) implies that the runtime will become quite slow as the array size increases, so it makes sense to only utilize this technique on smaller data where the performance won't be significantly impacted. \n",
    "\n",
    "The NumPy quick sort is noticeably faster for all data types, and that is because quick sort is a faster sorting algorithm and NumPy package is very efficient in how it does sorting. The runtime for quick sort is O(nlogn) in the best and average case and O(n^2) in the worst case. This is a more efficient sorting algorithm when compared to selection sort. Quick sort will be significantly faster than selection sort when the array size increases. \n",
    "\n",
    "Understanding the different complexity of various sorting algorithms is very useful for data engineers in order to plan for Scalable Data Systems or Applications. Also, the built-in sorting algorithms are very efficient so it is best to use the built-in sorting function rather than creating your own sorting function.\n",
    "\n"
   ]
  },
  {
   "cell_type": "code",
   "execution_count": null,
   "metadata": {},
   "outputs": [],
   "source": []
  }
 ],
 "metadata": {
  "kernelspec": {
   "display_name": "Python 3",
   "language": "python",
   "name": "python3"
  },
  "language_info": {
   "codemirror_mode": {
    "name": "ipython",
    "version": 3
   },
   "file_extension": ".py",
   "mimetype": "text/x-python",
   "name": "python",
   "nbconvert_exporter": "python",
   "pygments_lexer": "ipython3",
   "version": "3.8.5"
  }
 },
 "nbformat": 4,
 "nbformat_minor": 4
}
